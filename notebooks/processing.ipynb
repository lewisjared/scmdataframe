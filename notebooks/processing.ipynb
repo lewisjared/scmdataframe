{
 "cells": [
  {
   "cell_type": "markdown",
   "id": "2b1abb03",
   "metadata": {},
   "source": [
    "# Processing\n",
    "\n",
    "scmdata has some support for processing `ScmRun` instances to calculate statistics of interest. Here we provide examples of how to use them.\n",
    "\n",
    "At present, we can calculate:\n",
    "\n",
    "- crossing times (e.g. 1.5C crossing times)\n",
    "- crossing time quantiles\n",
    "- exceedance probabilities\n",
    "- peak\n",
    "- peak year\n",
    "- categorisation in line with SR1.5\n",
    "- a set of summary variables"
   ]
  },
  {
   "cell_type": "markdown",
   "id": "f6f109b0",
   "metadata": {},
   "source": [
    "## Load some data\n",
    "\n",
    "For this demonstration, we are going to use MAGICC output from [RCMIP Phase 2] as available at [https://zenodo.org/record/4624566/files/data-processed-submission-database-hadcrut5-target-MAGICCv7.5.1.tar.gz?download=1](). Here we have just extracted the air temperature output for the SSPs from 1995 to 2100."
   ]
  },
  {
   "cell_type": "code",
   "execution_count": 1,
   "id": "8ef6d576",
   "metadata": {
    "execution": {
     "iopub.execute_input": "2022-03-15T07:50:53.947630Z",
     "iopub.status.busy": "2022-03-15T07:50:53.947479Z",
     "iopub.status.idle": "2022-03-15T07:50:55.164873Z",
     "shell.execute_reply": "2022-03-15T07:50:55.164515Z"
    }
   },
   "outputs": [
    {
     "name": "stderr",
     "output_type": "stream",
     "text": [
      "/Users/jared/code/uom/scmdata/src/scmdata/database/_database.py:9: TqdmExperimentalWarning: Using `tqdm.autonotebook.tqdm` in notebook mode. Use `tqdm.tqdm` instead to force console mode (e.g. in jupyter console)\n",
      "  import tqdm.autonotebook as tqdman\n"
     ]
    }
   ],
   "source": [
    "# NBVAL_IGNORE_OUTPUT\n",
    "import numpy as np\n",
    "import pandas as pd\n",
    "import scmdata.processing\n",
    "from scmdata import ScmRun, run_append\n",
    "\n",
    "import matplotlib.pyplot as plt\n",
    "import seaborn as sns"
   ]
  },
  {
   "cell_type": "code",
   "execution_count": 2,
   "id": "01826252",
   "metadata": {
    "execution": {
     "iopub.execute_input": "2022-03-15T07:50:55.166457Z",
     "iopub.status.busy": "2022-03-15T07:50:55.166312Z",
     "iopub.status.idle": "2022-03-15T07:50:55.170642Z",
     "shell.execute_reply": "2022-03-15T07:50:55.169285Z"
    }
   },
   "outputs": [],
   "source": [
    "pd.set_option(\"display.width\", 120)\n",
    "pd.set_option(\"display.max_columns\", 15)\n",
    "pd.set_option(\"display.max_colwidth\", 80)\n",
    "pd.set_option(\"display.min_rows\", 20)"
   ]
  },
  {
   "cell_type": "code",
   "execution_count": 3,
   "id": "61839a88",
   "metadata": {
    "execution": {
     "iopub.execute_input": "2022-03-15T07:50:55.172303Z",
     "iopub.status.busy": "2022-03-15T07:50:55.172059Z",
     "iopub.status.idle": "2022-03-15T07:50:55.262110Z",
     "shell.execute_reply": "2022-03-15T07:50:55.261500Z"
    }
   },
   "outputs": [
    {
     "data": {
      "text/plain": [
       "<ScmRun (timeseries: 4800, timepoints: 106)>\n",
       "Time:\n",
       "\tStart: 1995-01-01T00:00:00\n",
       "\tEnd: 2100-01-01T00:00:00\n",
       "Meta:\n",
       "\t     climate_model  ensemble_member        model region scenario unit                        variable\n",
       "\t0     MAGICCv7.5.1                0  unspecified  World   ssp585    K  Surface Air Temperature Change\n",
       "\t1     MAGICCv7.5.1                1  unspecified  World   ssp585    K  Surface Air Temperature Change\n",
       "\t2     MAGICCv7.5.1                2  unspecified  World   ssp585    K  Surface Air Temperature Change\n",
       "\t3     MAGICCv7.5.1                3  unspecified  World   ssp585    K  Surface Air Temperature Change\n",
       "\t4     MAGICCv7.5.1                4  unspecified  World   ssp585    K  Surface Air Temperature Change\n",
       "\t5     MAGICCv7.5.1                5  unspecified  World   ssp585    K  Surface Air Temperature Change\n",
       "\t6     MAGICCv7.5.1                6  unspecified  World   ssp585    K  Surface Air Temperature Change\n",
       "\t7     MAGICCv7.5.1                7  unspecified  World   ssp585    K  Surface Air Temperature Change\n",
       "\t8     MAGICCv7.5.1                8  unspecified  World   ssp585    K  Surface Air Temperature Change\n",
       "\t9     MAGICCv7.5.1                9  unspecified  World   ssp585    K  Surface Air Temperature Change\n",
       "\t...            ...              ...          ...    ...      ...  ...                             ...\n",
       "\t4790  MAGICCv7.5.1              590  unspecified  World   ssp119    K  Surface Air Temperature Change\n",
       "\t4791  MAGICCv7.5.1              591  unspecified  World   ssp119    K  Surface Air Temperature Change\n",
       "\t4792  MAGICCv7.5.1              592  unspecified  World   ssp119    K  Surface Air Temperature Change\n",
       "\t4793  MAGICCv7.5.1              593  unspecified  World   ssp119    K  Surface Air Temperature Change\n",
       "\t4794  MAGICCv7.5.1              594  unspecified  World   ssp119    K  Surface Air Temperature Change\n",
       "\t4795  MAGICCv7.5.1              595  unspecified  World   ssp119    K  Surface Air Temperature Change\n",
       "\t4796  MAGICCv7.5.1              596  unspecified  World   ssp119    K  Surface Air Temperature Change\n",
       "\t4797  MAGICCv7.5.1              597  unspecified  World   ssp119    K  Surface Air Temperature Change\n",
       "\t4798  MAGICCv7.5.1              598  unspecified  World   ssp119    K  Surface Air Temperature Change\n",
       "\t4799  MAGICCv7.5.1              599  unspecified  World   ssp119    K  Surface Air Temperature Change\n",
       "\t\n",
       "\t[4800 rows x 7 columns]"
      ]
     },
     "execution_count": 3,
     "metadata": {},
     "output_type": "execute_result"
    }
   ],
   "source": [
    "# NBVAL_IGNORE_OUTPUT\n",
    "magicc_output = ScmRun(\"magicc-rcmip-phase-2-gsat-output.csv\")\n",
    "magicc_output"
   ]
  },
  {
   "cell_type": "markdown",
   "id": "f7f291fb",
   "metadata": {},
   "source": [
    "## Crossing times\n",
    "\n",
    "The first thing we do is show how to calculate the crossing times of a given threshold."
   ]
  },
  {
   "cell_type": "code",
   "execution_count": 4,
   "id": "663a1fd0",
   "metadata": {
    "execution": {
     "iopub.execute_input": "2022-03-15T07:50:55.263872Z",
     "iopub.status.busy": "2022-03-15T07:50:55.263783Z",
     "iopub.status.idle": "2022-03-15T07:50:55.315480Z",
     "shell.execute_reply": "2022-03-15T07:50:55.315021Z"
    }
   },
   "outputs": [
    {
     "data": {
      "text/plain": [
       "climate_model  ensemble_member  model        region  scenario  unit  variable                      \n",
       "MAGICCv7.5.1   0                unspecified  World   ssp585    K     Surface Air Temperature Change    2025.0\n",
       "               1                unspecified  World   ssp585    K     Surface Air Temperature Change    2029.0\n",
       "               2                unspecified  World   ssp585    K     Surface Air Temperature Change    2024.0\n",
       "               3                unspecified  World   ssp585    K     Surface Air Temperature Change    2023.0\n",
       "               4                unspecified  World   ssp585    K     Surface Air Temperature Change    2023.0\n",
       "               5                unspecified  World   ssp585    K     Surface Air Temperature Change    2022.0\n",
       "               6                unspecified  World   ssp585    K     Surface Air Temperature Change    2027.0\n",
       "               7                unspecified  World   ssp585    K     Surface Air Temperature Change    2020.0\n",
       "               8                unspecified  World   ssp585    K     Surface Air Temperature Change    2035.0\n",
       "               9                unspecified  World   ssp585    K     Surface Air Temperature Change    2023.0\n",
       "                                                                                                        ...  \n",
       "               590              unspecified  World   ssp119    K     Surface Air Temperature Change    2025.0\n",
       "               591              unspecified  World   ssp119    K     Surface Air Temperature Change    2032.0\n",
       "               592              unspecified  World   ssp119    K     Surface Air Temperature Change    2024.0\n",
       "               593              unspecified  World   ssp119    K     Surface Air Temperature Change    2023.0\n",
       "               594              unspecified  World   ssp119    K     Surface Air Temperature Change       NaN\n",
       "               595              unspecified  World   ssp119    K     Surface Air Temperature Change    2023.0\n",
       "               596              unspecified  World   ssp119    K     Surface Air Temperature Change       NaN\n",
       "               597              unspecified  World   ssp119    K     Surface Air Temperature Change    2026.0\n",
       "               598              unspecified  World   ssp119    K     Surface Air Temperature Change    2019.0\n",
       "               599              unspecified  World   ssp119    K     Surface Air Temperature Change    2024.0\n",
       "Length: 4800, dtype: float64"
      ]
     },
     "execution_count": 4,
     "metadata": {},
     "output_type": "execute_result"
    }
   ],
   "source": [
    "# NBVAL_IGNORE_OUTPUT\n",
    "crossing_time_15 = scmdata.processing.calculate_crossing_times(\n",
    "    magicc_output,\n",
    "    threshold=1.5,\n",
    ")\n",
    "crossing_time_15"
   ]
  },
  {
   "cell_type": "markdown",
   "id": "777ff68d",
   "metadata": {},
   "source": [
    "The output is a `pd.Series`, which is useful for many other pieces of work.\n",
    "\n",
    "For example, we could make a plot with e.g. seaborn."
   ]
  },
  {
   "cell_type": "code",
   "execution_count": 5,
   "id": "3faa0042",
   "metadata": {
    "execution": {
     "iopub.execute_input": "2022-03-15T07:50:55.319390Z",
     "iopub.status.busy": "2022-03-15T07:50:55.319061Z",
     "iopub.status.idle": "2022-03-15T07:50:56.082478Z",
     "shell.execute_reply": "2022-03-15T07:50:56.082215Z"
    }
   },
   "outputs": [
    {
     "data": {
      "text/plain": [
       "<AxesSubplot: xlabel='1.5C crossing time', ylabel='Count'>"
      ]
     },
     "execution_count": 5,
     "metadata": {},
     "output_type": "execute_result"
    },
    {
     "data": {
      "image/png": "[encoded data removed]",
      "text/plain": [
       "<Figure size 640x480 with 1 Axes>"
      ]
     },
     "metadata": {},
     "output_type": "display_data"
    }
   ],
   "source": [
    "label = \"1.5C crossing time\"\n",
    "pdf = crossing_time_15.reset_index().rename({0: label}, axis=\"columns\")\n",
    "sns.histplot(data=pdf, x=label, hue=\"scenario\")"
   ]
  },
  {
   "cell_type": "code",
   "execution_count": 6,
   "id": "ec454d32",
   "metadata": {
    "execution": {
     "iopub.execute_input": "2022-03-15T07:50:56.084481Z",
     "iopub.status.busy": "2022-03-15T07:50:56.084393Z",
     "iopub.status.idle": "2022-03-15T07:50:56.803611Z",
     "shell.execute_reply": "2022-03-15T07:50:56.803337Z"
    }
   },
   "outputs": [
    {
     "data": {
      "text/plain": [
       "<AxesSubplot: xlabel='2.0C crossing time', ylabel='Count'>"
      ]
     },
     "execution_count": 6,
     "metadata": {},
     "output_type": "execute_result"
    },
    {
     "data": {
      "image/png": "[encoded data removed]",
      "text/plain": [
       "<Figure size 640x480 with 1 Axes>"
      ]
     },
     "metadata": {},
     "output_type": "display_data"
    }
   ],
   "source": [
    "label = \"2.0C crossing time\"\n",
    "crossing_time_20 = scmdata.processing.calculate_crossing_times(\n",
    "    magicc_output,\n",
    "    threshold=2.0,\n",
    ")\n",
    "\n",
    "pdf = crossing_time_20.reset_index().rename({0: label}, axis=\"columns\")\n",
    "sns.histplot(data=pdf, x=label, hue=\"scenario\")"
   ]
  },
  {
   "cell_type": "markdown",
   "id": "ad89a9b1",
   "metadata": {},
   "source": [
    "### Crossing time quantiles\n",
    "\n",
    "Calculating the quantiles of crossing times is a bit fiddly because some ensemble members will not cross the threshold at all. We show how quantiles can be calculated sensibly below. The calculation will return nan if that quantile in the crossing times corresponds to an ensemble member which never crosses the threshold."
   ]
  },
  {
   "cell_type": "code",
   "execution_count": 7,
   "id": "04d94d0d",
   "metadata": {
    "execution": {
     "iopub.execute_input": "2022-03-15T07:50:56.805511Z",
     "iopub.status.busy": "2022-03-15T07:50:56.805345Z",
     "iopub.status.idle": "2022-03-15T07:50:56.814797Z",
     "shell.execute_reply": "2022-03-15T07:50:56.814449Z"
    }
   },
   "outputs": [
    {
     "data": {
      "text/plain": [
       "climate_model  model        scenario     quantile\n",
       "MAGICCv7.5.1   unspecified  ssp119       0.05        2021.00\n",
       "                                         0.17        2023.00\n",
       "                                         0.50        2027.00\n",
       "                                         0.83            NaN\n",
       "                                         0.95            NaN\n",
       "                            ssp126       0.05        2021.00\n",
       "                                         0.17        2023.00\n",
       "                                         0.50        2028.00\n",
       "                                         0.83        2038.17\n",
       "                                         0.95            NaN\n",
       "                            ssp245       0.05        2021.00\n",
       "                                         0.17        2023.00\n",
       "                                         0.50        2028.00\n",
       "                                         0.83        2034.00\n",
       "                                         0.95        2039.00\n",
       "                            ssp370       0.05        2021.00\n",
       "                                         0.17        2024.00\n",
       "                                         0.50        2028.00\n",
       "                                         0.83        2032.00\n",
       "                                         0.95        2036.00\n",
       "                            ssp434       0.05        2021.00\n",
       "                                         0.17        2023.00\n",
       "                                         0.50        2027.00\n",
       "                                         0.83        2034.00\n",
       "                                         0.95        2041.00\n",
       "                            ssp460       0.05        2021.00\n",
       "                                         0.17        2023.00\n",
       "                                         0.50        2027.00\n",
       "                                         0.83        2032.00\n",
       "                                         0.95        2036.00\n",
       "                            ssp534-over  0.05        2020.00\n",
       "                                         0.17        2022.00\n",
       "                                         0.50        2025.00\n",
       "                                         0.83        2030.00\n",
       "                                         0.95        2033.05\n",
       "                            ssp585       0.05        2020.00\n",
       "                                         0.17        2022.00\n",
       "                                         0.50        2025.00\n",
       "                                         0.83        2030.00\n",
       "                                         0.95        2034.00\n",
       "dtype: float64"
      ]
     },
     "execution_count": 7,
     "metadata": {},
     "output_type": "execute_result"
    }
   ],
   "source": [
    "scmdata.processing.calculate_crossing_times_quantiles(\n",
    "    crossing_time_15,\n",
    "    groupby=[\"climate_model\", \"model\", \"scenario\"],\n",
    "    quantiles=(0.05, 0.17, 0.5, 0.83, 0.95),\n",
    ")"
   ]
  },
  {
   "cell_type": "markdown",
   "id": "c670d976",
   "metadata": {},
   "source": [
    "In the above, we can see that the 83rd percentile of crossing times is in fact to not cross at all under the SSP1-1.9 scenario."
   ]
  },
  {
   "cell_type": "markdown",
   "id": "9977193d",
   "metadata": {},
   "source": [
    "### Datetime output\n",
    "\n",
    "If desired, data could be interpolated first before calculating the crossing times. In such cases, returning the output as datetime rather than year might be helpful."
   ]
  },
  {
   "cell_type": "code",
   "execution_count": 8,
   "id": "3b12239f",
   "metadata": {
    "execution": {
     "iopub.execute_input": "2022-03-15T07:50:56.816452Z",
     "iopub.status.busy": "2022-03-15T07:50:56.816370Z",
     "iopub.status.idle": "2022-03-15T07:50:57.607181Z",
     "shell.execute_reply": "2022-03-15T07:50:57.606919Z"
    }
   },
   "outputs": [
    {
     "data": {
      "text/plain": [
       "climate_model  ensemble_member  model        region  scenario  unit  variable                      \n",
       "MAGICCv7.5.1   0                unspecified  World   ssp585    K     Surface Air Temperature Change   2042-02-01\n",
       "               1                unspecified  World   ssp585    K     Surface Air Temperature Change   2041-10-01\n",
       "               2                unspecified  World   ssp585    K     Surface Air Temperature Change   2035-11-01\n",
       "               3                unspecified  World   ssp585    K     Surface Air Temperature Change   2035-09-01\n",
       "               4                unspecified  World   ssp585    K     Surface Air Temperature Change   2036-01-01\n",
       "               5                unspecified  World   ssp585    K     Surface Air Temperature Change   2035-02-01\n",
       "               6                unspecified  World   ssp585    K     Surface Air Temperature Change   2041-04-01\n",
       "               7                unspecified  World   ssp585    K     Surface Air Temperature Change   2032-03-01\n",
       "               8                unspecified  World   ssp585    K     Surface Air Temperature Change   2049-12-01\n",
       "               9                unspecified  World   ssp585    K     Surface Air Temperature Change   2036-06-01\n",
       "                                                                                                         ...    \n",
       "               590              unspecified  World   ssp119    K     Surface Air Temperature Change          NaT\n",
       "               591              unspecified  World   ssp119    K     Surface Air Temperature Change          NaT\n",
       "               592              unspecified  World   ssp119    K     Surface Air Temperature Change          NaT\n",
       "               593              unspecified  World   ssp119    K     Surface Air Temperature Change          NaT\n",
       "               594              unspecified  World   ssp119    K     Surface Air Temperature Change          NaT\n",
       "               595              unspecified  World   ssp119    K     Surface Air Temperature Change          NaT\n",
       "               596              unspecified  World   ssp119    K     Surface Air Temperature Change          NaT\n",
       "               597              unspecified  World   ssp119    K     Surface Air Temperature Change          NaT\n",
       "               598              unspecified  World   ssp119    K     Surface Air Temperature Change   2027-07-01\n",
       "               599              unspecified  World   ssp119    K     Surface Air Temperature Change          NaT\n",
       "Length: 4800, dtype: datetime64[ns]"
      ]
     },
     "execution_count": 8,
     "metadata": {},
     "output_type": "execute_result"
    }
   ],
   "source": [
    "scmdata.processing.calculate_crossing_times(\n",
    "    magicc_output.resample(\"MS\"),\n",
    "    threshold=2.0,\n",
    "    return_year=False,\n",
    ")"
   ]
  },
  {
   "cell_type": "markdown",
   "id": "e7bce13e",
   "metadata": {},
   "source": [
    "## Exceedance probabilities\n",
    "\n",
    "Next we show how to calculate exceedance probabilities."
   ]
  },
  {
   "cell_type": "code",
   "execution_count": 9,
   "id": "f049ee1b",
   "metadata": {
    "execution": {
     "iopub.execute_input": "2022-03-15T07:50:57.609383Z",
     "iopub.status.busy": "2022-03-15T07:50:57.609295Z",
     "iopub.status.idle": "2022-03-15T07:50:57.628010Z",
     "shell.execute_reply": "2022-03-15T07:50:57.627597Z"
    }
   },
   "outputs": [
    {
     "data": {
      "text/plain": [
       "climate_model  model        region  scenario     unit         \n",
       "MAGICCv7.5.1   unspecified  World   ssp119       dimensionless    0.091667\n",
       "                                    ssp126       dimensionless    0.350000\n",
       "                                    ssp245       dimensionless    0.995000\n",
       "                                    ssp370       dimensionless    1.000000\n",
       "                                    ssp434       dimensionless    0.868333\n",
       "                                    ssp460       dimensionless    1.000000\n",
       "                                    ssp534-over  dimensionless    0.983333\n",
       "                                    ssp585       dimensionless    1.000000\n",
       "Name: 2.0 exceedance probability, dtype: float64"
      ]
     },
     "execution_count": 9,
     "metadata": {},
     "output_type": "execute_result"
    }
   ],
   "source": [
    "exceedance_probability_2C = scmdata.processing.calculate_exceedance_probabilities(\n",
    "    magicc_output,\n",
    "    process_over_cols=[\"ensemble_member\", \"variable\"],\n",
    "    threshold=2.0,\n",
    ")\n",
    "exceedance_probability_2C"
   ]
  },
  {
   "cell_type": "markdown",
   "id": "f34eafa6",
   "metadata": {},
   "source": [
    "\n",
    "We can make a plot to compare exceedance probabilities over multiple scenarios."
   ]
  },
  {
   "cell_type": "code",
   "execution_count": 10,
   "id": "8e4efe07",
   "metadata": {
    "execution": {
     "iopub.execute_input": "2022-03-15T07:50:57.631233Z",
     "iopub.status.busy": "2022-03-15T07:50:57.631034Z",
     "iopub.status.idle": "2022-03-15T07:50:57.773025Z",
     "shell.execute_reply": "2022-03-15T07:50:57.772714Z"
    }
   },
   "outputs": [
    {
     "data": {
      "text/html": [
       "<div>\n",
       "<style scoped>\n",
       "    .dataframe tbody tr th:only-of-type {\n",
       "        vertical-align: middle;\n",
       "    }\n",
       "\n",
       "    .dataframe tbody tr th {\n",
       "        vertical-align: top;\n",
       "    }\n",
       "\n",
       "    .dataframe thead th {\n",
       "        text-align: right;\n",
       "    }\n",
       "</style>\n",
       "<table border=\"1\" class=\"dataframe\">\n",
       "  <thead>\n",
       "    <tr style=\"text-align: right;\">\n",
       "      <th></th>\n",
       "      <th>climate_model</th>\n",
       "      <th>model</th>\n",
       "      <th>region</th>\n",
       "      <th>scenario</th>\n",
       "      <th>unit</th>\n",
       "      <th>variable</th>\n",
       "      <th>Exceedance probability</th>\n",
       "    </tr>\n",
       "  </thead>\n",
       "  <tbody>\n",
       "    <tr>\n",
       "      <th>0</th>\n",
       "      <td>MAGICCv7.5.1</td>\n",
       "      <td>unspecified</td>\n",
       "      <td>World</td>\n",
       "      <td>ssp119</td>\n",
       "      <td>dimensionless</td>\n",
       "      <td>2.0 exceedance probability</td>\n",
       "      <td>0.091667</td>\n",
       "    </tr>\n",
       "    <tr>\n",
       "      <th>1</th>\n",
       "      <td>MAGICCv7.5.1</td>\n",
       "      <td>unspecified</td>\n",
       "      <td>World</td>\n",
       "      <td>ssp126</td>\n",
       "      <td>dimensionless</td>\n",
       "      <td>2.0 exceedance probability</td>\n",
       "      <td>0.350000</td>\n",
       "    </tr>\n",
       "    <tr>\n",
       "      <th>2</th>\n",
       "      <td>MAGICCv7.5.1</td>\n",
       "      <td>unspecified</td>\n",
       "      <td>World</td>\n",
       "      <td>ssp245</td>\n",
       "      <td>dimensionless</td>\n",
       "      <td>2.0 exceedance probability</td>\n",
       "      <td>0.995000</td>\n",
       "    </tr>\n",
       "    <tr>\n",
       "      <th>3</th>\n",
       "      <td>MAGICCv7.5.1</td>\n",
       "      <td>unspecified</td>\n",
       "      <td>World</td>\n",
       "      <td>ssp370</td>\n",
       "      <td>dimensionless</td>\n",
       "      <td>2.0 exceedance probability</td>\n",
       "      <td>1.000000</td>\n",
       "    </tr>\n",
       "    <tr>\n",
       "      <th>4</th>\n",
       "      <td>MAGICCv7.5.1</td>\n",
       "      <td>unspecified</td>\n",
       "      <td>World</td>\n",
       "      <td>ssp434</td>\n",
       "      <td>dimensionless</td>\n",
       "      <td>2.0 exceedance probability</td>\n",
       "      <td>0.868333</td>\n",
       "    </tr>\n",
       "    <tr>\n",
       "      <th>5</th>\n",
       "      <td>MAGICCv7.5.1</td>\n",
       "      <td>unspecified</td>\n",
       "      <td>World</td>\n",
       "      <td>ssp460</td>\n",
       "      <td>dimensionless</td>\n",
       "      <td>2.0 exceedance probability</td>\n",
       "      <td>1.000000</td>\n",
       "    </tr>\n",
       "    <tr>\n",
       "      <th>6</th>\n",
       "      <td>MAGICCv7.5.1</td>\n",
       "      <td>unspecified</td>\n",
       "      <td>World</td>\n",
       "      <td>ssp534-over</td>\n",
       "      <td>dimensionless</td>\n",
       "      <td>2.0 exceedance probability</td>\n",
       "      <td>0.983333</td>\n",
       "    </tr>\n",
       "    <tr>\n",
       "      <th>7</th>\n",
       "      <td>MAGICCv7.5.1</td>\n",
       "      <td>unspecified</td>\n",
       "      <td>World</td>\n",
       "      <td>ssp585</td>\n",
       "      <td>dimensionless</td>\n",
       "      <td>2.0 exceedance probability</td>\n",
       "      <td>1.000000</td>\n",
       "    </tr>\n",
       "    <tr>\n",
       "      <th>8</th>\n",
       "      <td>MAGICCv7.5.1</td>\n",
       "      <td>unspecified</td>\n",
       "      <td>World</td>\n",
       "      <td>ssp119</td>\n",
       "      <td>dimensionless</td>\n",
       "      <td>1.5 exceedance probability</td>\n",
       "      <td>0.743333</td>\n",
       "    </tr>\n",
       "    <tr>\n",
       "      <th>9</th>\n",
       "      <td>MAGICCv7.5.1</td>\n",
       "      <td>unspecified</td>\n",
       "      <td>World</td>\n",
       "      <td>ssp126</td>\n",
       "      <td>dimensionless</td>\n",
       "      <td>1.5 exceedance probability</td>\n",
       "      <td>0.940000</td>\n",
       "    </tr>\n",
       "    <tr>\n",
       "      <th>10</th>\n",
       "      <td>MAGICCv7.5.1</td>\n",
       "      <td>unspecified</td>\n",
       "      <td>World</td>\n",
       "      <td>ssp245</td>\n",
       "      <td>dimensionless</td>\n",
       "      <td>1.5 exceedance probability</td>\n",
       "      <td>1.000000</td>\n",
       "    </tr>\n",
       "    <tr>\n",
       "      <th>11</th>\n",
       "      <td>MAGICCv7.5.1</td>\n",
       "      <td>unspecified</td>\n",
       "      <td>World</td>\n",
       "      <td>ssp370</td>\n",
       "      <td>dimensionless</td>\n",
       "      <td>1.5 exceedance probability</td>\n",
       "      <td>1.000000</td>\n",
       "    </tr>\n",
       "    <tr>\n",
       "      <th>12</th>\n",
       "      <td>MAGICCv7.5.1</td>\n",
       "      <td>unspecified</td>\n",
       "      <td>World</td>\n",
       "      <td>ssp434</td>\n",
       "      <td>dimensionless</td>\n",
       "      <td>1.5 exceedance probability</td>\n",
       "      <td>1.000000</td>\n",
       "    </tr>\n",
       "    <tr>\n",
       "      <th>13</th>\n",
       "      <td>MAGICCv7.5.1</td>\n",
       "      <td>unspecified</td>\n",
       "      <td>World</td>\n",
       "      <td>ssp460</td>\n",
       "      <td>dimensionless</td>\n",
       "      <td>1.5 exceedance probability</td>\n",
       "      <td>1.000000</td>\n",
       "    </tr>\n",
       "    <tr>\n",
       "      <th>14</th>\n",
       "      <td>MAGICCv7.5.1</td>\n",
       "      <td>unspecified</td>\n",
       "      <td>World</td>\n",
       "      <td>ssp534-over</td>\n",
       "      <td>dimensionless</td>\n",
       "      <td>1.5 exceedance probability</td>\n",
       "      <td>1.000000</td>\n",
       "    </tr>\n",
       "    <tr>\n",
       "      <th>15</th>\n",
       "      <td>MAGICCv7.5.1</td>\n",
       "      <td>unspecified</td>\n",
       "      <td>World</td>\n",
       "      <td>ssp585</td>\n",
       "      <td>dimensionless</td>\n",
       "      <td>1.5 exceedance probability</td>\n",
       "      <td>1.000000</td>\n",
       "    </tr>\n",
       "  </tbody>\n",
       "</table>\n",
       "</div>"
      ],
      "text/plain": [
       "   climate_model        model region     scenario           unit                    variable  Exceedance probability\n",
       "0   MAGICCv7.5.1  unspecified  World       ssp119  dimensionless  2.0 exceedance probability                0.091667\n",
       "1   MAGICCv7.5.1  unspecified  World       ssp126  dimensionless  2.0 exceedance probability                0.350000\n",
       "2   MAGICCv7.5.1  unspecified  World       ssp245  dimensionless  2.0 exceedance probability                0.995000\n",
       "3   MAGICCv7.5.1  unspecified  World       ssp370  dimensionless  2.0 exceedance probability                1.000000\n",
       "4   MAGICCv7.5.1  unspecified  World       ssp434  dimensionless  2.0 exceedance probability                0.868333\n",
       "5   MAGICCv7.5.1  unspecified  World       ssp460  dimensionless  2.0 exceedance probability                1.000000\n",
       "6   MAGICCv7.5.1  unspecified  World  ssp534-over  dimensionless  2.0 exceedance probability                0.983333\n",
       "7   MAGICCv7.5.1  unspecified  World       ssp585  dimensionless  2.0 exceedance probability                1.000000\n",
       "8   MAGICCv7.5.1  unspecified  World       ssp119  dimensionless  1.5 exceedance probability                0.743333\n",
       "9   MAGICCv7.5.1  unspecified  World       ssp126  dimensionless  1.5 exceedance probability                0.940000\n",
       "10  MAGICCv7.5.1  unspecified  World       ssp245  dimensionless  1.5 exceedance probability                1.000000\n",
       "11  MAGICCv7.5.1  unspecified  World       ssp370  dimensionless  1.5 exceedance probability                1.000000\n",
       "12  MAGICCv7.5.1  unspecified  World       ssp434  dimensionless  1.5 exceedance probability                1.000000\n",
       "13  MAGICCv7.5.1  unspecified  World       ssp460  dimensionless  1.5 exceedance probability                1.000000\n",
       "14  MAGICCv7.5.1  unspecified  World  ssp534-over  dimensionless  1.5 exceedance probability                1.000000\n",
       "15  MAGICCv7.5.1  unspecified  World       ssp585  dimensionless  1.5 exceedance probability                1.000000"
      ]
     },
     "metadata": {},
     "output_type": "display_data"
    },
    {
     "data": {
      "image/png": "[encoded data removed]",
      "text/plain": [
       "<Figure size 640x480 with 1 Axes>"
      ]
     },
     "metadata": {},
     "output_type": "display_data"
    }
   ],
   "source": [
    "exceedance_probability_15C = scmdata.processing.calculate_exceedance_probabilities(\n",
    "    magicc_output,\n",
    "    process_over_cols=[\"ensemble_member\", \"variable\"],\n",
    "    threshold=1.5,\n",
    ")\n",
    "\n",
    "pdf = (\n",
    "    pd.DataFrame(\n",
    "        [\n",
    "            exceedance_probability_2C,\n",
    "            exceedance_probability_15C,\n",
    "        ]\n",
    "    )\n",
    "    .T.melt(ignore_index=False, value_name=\"Exceedance probability\")\n",
    "    .reset_index()\n",
    ")\n",
    "display(pdf)\n",
    "\n",
    "ax = sns.barplot(data=pdf, x=\"scenario\", y=\"Exceedance probability\", hue=\"variable\")\n",
    "ax.tick_params(labelrotation=30)\n",
    "ax.set_ylim([0, 1])\n",
    "ax.legend(loc=\"center left\", bbox_to_anchor=(1.01, 0.5), title=\"threshold\")\n",
    "plt.tight_layout()"
   ]
  },
  {
   "cell_type": "markdown",
   "id": "bd2a2dd9",
   "metadata": {},
   "source": [
    "## Exceedance probabilities over time\n",
    "\n",
    "It is also possible to calculate exceedance probabilities over time."
   ]
  },
  {
   "cell_type": "code",
   "execution_count": 11,
   "id": "419155fe",
   "metadata": {
    "execution": {
     "iopub.execute_input": "2022-03-15T07:50:57.776237Z",
     "iopub.status.busy": "2022-03-15T07:50:57.775988Z",
     "iopub.status.idle": "2022-03-15T07:50:57.978325Z",
     "shell.execute_reply": "2022-03-15T07:50:57.977997Z"
    }
   },
   "outputs": [
    {
     "name": "stderr",
     "output_type": "stream",
     "text": [
      "/Users/jared/code/uom/scmdata/src/scmdata/plotting.py:96: FutureWarning: \n",
      "\n",
      "The `ci` parameter is deprecated. Use `errorbar='sd'` for the same effect.\n",
      "\n",
      "  ax = sns.lineplot(data=plt_df, **kwargs)\n"
     ]
    },
    {
     "data": {
      "text/plain": [
       "<AxesSubplot: xlabel='time', ylabel='dimensionless'>"
      ]
     },
     "execution_count": 11,
     "metadata": {},
     "output_type": "execute_result"
    },
    {
     "data": {
      "image/png": "[encoded data removed]",
      "text/plain": [
       "<Figure size 640x480 with 1 Axes>"
      ]
     },
     "metadata": {},
     "output_type": "display_data"
    }
   ],
   "source": [
    "res = scmdata.processing.calculate_exceedance_probabilities_over_time(\n",
    "    magicc_output,\n",
    "    process_over_cols=\"ensemble_member\",\n",
    "    threshold=1.5,\n",
    ")\n",
    "res = scmdata.ScmRun(res)\n",
    "res.lineplot(style=\"variable\")"
   ]
  },
  {
   "cell_type": "markdown",
   "id": "560b86a1",
   "metadata": {},
   "source": [
    "Note that taking the maximum exceedance probability over all time will be less than or equal to the exceedance probability calculated with `calculate_exceedance_probabilities` because the order of operations matters: calculating whether each ensemble member exceeds the threshold or not then seeing how many ensemble members out of the total exceed the threshold is not the same as seeing how many ensemble members exceed the threshold at each timestep and then taking the maximum over all timesteps. In general, taking the maximum value from `calculate_exceedance_probabilities_over_time` will be less than or equal to the results of `calculate_exceedance_probabilities`, as demonstrated below."
   ]
  },
  {
   "cell_type": "code",
   "execution_count": 12,
   "id": "9947a3c9",
   "metadata": {
    "execution": {
     "iopub.execute_input": "2022-03-15T07:50:57.981712Z",
     "iopub.status.busy": "2022-03-15T07:50:57.981582Z",
     "iopub.status.idle": "2022-03-15T07:50:57.992280Z",
     "shell.execute_reply": "2022-03-15T07:50:57.991952Z"
    }
   },
   "outputs": [
    {
     "data": {
      "text/html": [
       "<div>\n",
       "<style scoped>\n",
       "    .dataframe tbody tr th:only-of-type {\n",
       "        vertical-align: middle;\n",
       "    }\n",
       "\n",
       "    .dataframe tbody tr th {\n",
       "        vertical-align: top;\n",
       "    }\n",
       "\n",
       "    .dataframe thead th {\n",
       "        text-align: right;\n",
       "    }\n",
       "</style>\n",
       "<table border=\"1\" class=\"dataframe\">\n",
       "  <thead>\n",
       "    <tr style=\"text-align: right;\">\n",
       "      <th></th>\n",
       "      <th></th>\n",
       "      <th></th>\n",
       "      <th></th>\n",
       "      <th></th>\n",
       "      <th>calculate_exceedance_probabilities</th>\n",
       "      <th>max of calculate_exceedance_probabilities_over_time</th>\n",
       "    </tr>\n",
       "    <tr>\n",
       "      <th>climate_model</th>\n",
       "      <th>model</th>\n",
       "      <th>region</th>\n",
       "      <th>scenario</th>\n",
       "      <th>unit</th>\n",
       "      <th></th>\n",
       "      <th></th>\n",
       "    </tr>\n",
       "  </thead>\n",
       "  <tbody>\n",
       "    <tr>\n",
       "      <th rowspan=\"8\" valign=\"top\">MAGICCv7.5.1</th>\n",
       "      <th rowspan=\"8\" valign=\"top\">unspecified</th>\n",
       "      <th rowspan=\"8\" valign=\"top\">World</th>\n",
       "      <th>ssp119</th>\n",
       "      <th>dimensionless</th>\n",
       "      <td>74.3</td>\n",
       "      <td>73.8</td>\n",
       "    </tr>\n",
       "    <tr>\n",
       "      <th>ssp126</th>\n",
       "      <th>dimensionless</th>\n",
       "      <td>94.0</td>\n",
       "      <td>93.7</td>\n",
       "    </tr>\n",
       "    <tr>\n",
       "      <th>ssp245</th>\n",
       "      <th>dimensionless</th>\n",
       "      <td>100.0</td>\n",
       "      <td>100.0</td>\n",
       "    </tr>\n",
       "    <tr>\n",
       "      <th>ssp370</th>\n",
       "      <th>dimensionless</th>\n",
       "      <td>100.0</td>\n",
       "      <td>100.0</td>\n",
       "    </tr>\n",
       "    <tr>\n",
       "      <th>ssp434</th>\n",
       "      <th>dimensionless</th>\n",
       "      <td>100.0</td>\n",
       "      <td>100.0</td>\n",
       "    </tr>\n",
       "    <tr>\n",
       "      <th>ssp460</th>\n",
       "      <th>dimensionless</th>\n",
       "      <td>100.0</td>\n",
       "      <td>100.0</td>\n",
       "    </tr>\n",
       "    <tr>\n",
       "      <th>ssp534-over</th>\n",
       "      <th>dimensionless</th>\n",
       "      <td>100.0</td>\n",
       "      <td>100.0</td>\n",
       "    </tr>\n",
       "    <tr>\n",
       "      <th>ssp585</th>\n",
       "      <th>dimensionless</th>\n",
       "      <td>100.0</td>\n",
       "      <td>100.0</td>\n",
       "    </tr>\n",
       "  </tbody>\n",
       "</table>\n",
       "</div>"
      ],
      "text/plain": [
       "                                                            calculate_exceedance_probabilities  \\\n",
       "climate_model model       region scenario    unit                                                \n",
       "MAGICCv7.5.1  unspecified World  ssp119      dimensionless                                74.3   \n",
       "                                 ssp126      dimensionless                                94.0   \n",
       "                                 ssp245      dimensionless                               100.0   \n",
       "                                 ssp370      dimensionless                               100.0   \n",
       "                                 ssp434      dimensionless                               100.0   \n",
       "                                 ssp460      dimensionless                               100.0   \n",
       "                                 ssp534-over dimensionless                               100.0   \n",
       "                                 ssp585      dimensionless                               100.0   \n",
       "\n",
       "                                                            max of calculate_exceedance_probabilities_over_time  \n",
       "climate_model model       region scenario    unit                                                                \n",
       "MAGICCv7.5.1  unspecified World  ssp119      dimensionless                                                 73.8  \n",
       "                                 ssp126      dimensionless                                                 93.7  \n",
       "                                 ssp245      dimensionless                                                100.0  \n",
       "                                 ssp370      dimensionless                                                100.0  \n",
       "                                 ssp434      dimensionless                                                100.0  \n",
       "                                 ssp460      dimensionless                                                100.0  \n",
       "                                 ssp534-over dimensionless                                                100.0  \n",
       "                                 ssp585      dimensionless                                                100.0  "
      ]
     },
     "execution_count": 12,
     "metadata": {},
     "output_type": "execute_result"
    }
   ],
   "source": [
    "comparison = (\n",
    "    pd.DataFrame(\n",
    "        {\n",
    "            \"calculate_exceedance_probabilities\": exceedance_probability_15C,\n",
    "            \"max of calculate_exceedance_probabilities_over_time\": (\n",
    "                res.timeseries(meta=exceedance_probability_15C.index.names).max(axis=1)\n",
    "            ),\n",
    "        }\n",
    "    )\n",
    "    * 100\n",
    ")\n",
    "comparison.round(1)"
   ]
  },
  {
   "cell_type": "markdown",
   "id": "3fd7b49c",
   "metadata": {},
   "source": [
    "## Peak\n",
    "\n",
    "We can calculate the peaks in each timeseries."
   ]
  },
  {
   "cell_type": "code",
   "execution_count": 13,
   "id": "b724a520",
   "metadata": {
    "execution": {
     "iopub.execute_input": "2022-03-15T07:50:57.994255Z",
     "iopub.status.busy": "2022-03-15T07:50:57.994048Z",
     "iopub.status.idle": "2022-03-15T07:50:58.018103Z",
     "shell.execute_reply": "2022-03-15T07:50:58.017647Z"
    }
   },
   "outputs": [
    {
     "data": {
      "text/plain": [
       "climate_model  ensemble_member  model        region  scenario  unit  variable                           \n",
       "MAGICCv7.5.1   0                unspecified  World   ssp585    K     Peak Surface Air Temperature Change    4.448044\n",
       "               1                unspecified  World   ssp585    K     Peak Surface Air Temperature Change    5.372057\n",
       "               2                unspecified  World   ssp585    K     Peak Surface Air Temperature Change    5.942238\n",
       "               3                unspecified  World   ssp585    K     Peak Surface Air Temperature Change    5.220904\n",
       "               4                unspecified  World   ssp585    K     Peak Surface Air Temperature Change    5.637467\n",
       "               5                unspecified  World   ssp585    K     Peak Surface Air Temperature Change    5.590992\n",
       "               6                unspecified  World   ssp585    K     Peak Surface Air Temperature Change    5.072548\n",
       "               7                unspecified  World   ssp585    K     Peak Surface Air Temperature Change    6.026099\n",
       "               8                unspecified  World   ssp585    K     Peak Surface Air Temperature Change    4.061812\n",
       "               9                unspecified  World   ssp585    K     Peak Surface Air Temperature Change    5.577286\n",
       "                                                                                                              ...   \n",
       "               590              unspecified  World   ssp119    K     Peak Surface Air Temperature Change    1.693843\n",
       "               591              unspecified  World   ssp119    K     Peak Surface Air Temperature Change    1.636085\n",
       "               592              unspecified  World   ssp119    K     Peak Surface Air Temperature Change    1.888467\n",
       "               593              unspecified  World   ssp119    K     Peak Surface Air Temperature Change    1.840227\n",
       "               594              unspecified  World   ssp119    K     Peak Surface Air Temperature Change    1.464686\n",
       "               595              unspecified  World   ssp119    K     Peak Surface Air Temperature Change    1.809161\n",
       "               596              unspecified  World   ssp119    K     Peak Surface Air Temperature Change    1.288471\n",
       "               597              unspecified  World   ssp119    K     Peak Surface Air Temperature Change    1.669414\n",
       "               598              unspecified  World   ssp119    K     Peak Surface Air Temperature Change    2.459078\n",
       "               599              unspecified  World   ssp119    K     Peak Surface Air Temperature Change    1.746321\n",
       "Name: 0, Length: 4800, dtype: float64"
      ]
     },
     "execution_count": 13,
     "metadata": {},
     "output_type": "execute_result"
    }
   ],
   "source": [
    "peak_warming = scmdata.processing.calculate_peak(magicc_output)\n",
    "peak_warming"
   ]
  },
  {
   "cell_type": "markdown",
   "id": "ab965d7f",
   "metadata": {},
   "source": [
    "From this we can then calculate median peak warming by scenario (or other quantiles)."
   ]
  },
  {
   "cell_type": "code",
   "execution_count": 14,
   "id": "7a67244d",
   "metadata": {
    "execution": {
     "iopub.execute_input": "2022-03-15T07:50:58.020124Z",
     "iopub.status.busy": "2022-03-15T07:50:58.019931Z",
     "iopub.status.idle": "2022-03-15T07:50:58.026471Z",
     "shell.execute_reply": "2022-03-15T07:50:58.025851Z"
    }
   },
   "outputs": [
    {
     "data": {
      "text/plain": [
       "model        scenario   \n",
       "unspecified  ssp119         1.653154\n",
       "             ssp126         1.878890\n",
       "             ssp245         2.838238\n",
       "             ssp370         4.372581\n",
       "             ssp434         2.371833\n",
       "             ssp460         3.485626\n",
       "             ssp534-over    2.613975\n",
       "             ssp585         5.278692\n",
       "Name: 0, dtype: float64"
      ]
     },
     "execution_count": 14,
     "metadata": {},
     "output_type": "execute_result"
    }
   ],
   "source": [
    "peak_warming.groupby([\"model\", \"scenario\"]).median()"
   ]
  },
  {
   "cell_type": "markdown",
   "id": "ae4c32e6",
   "metadata": {},
   "source": [
    "Or make a plot."
   ]
  },
  {
   "cell_type": "code",
   "execution_count": 15,
   "id": "c7e7e35b",
   "metadata": {
    "execution": {
     "iopub.execute_input": "2022-03-15T07:50:58.030661Z",
     "iopub.status.busy": "2022-03-15T07:50:58.030290Z",
     "iopub.status.idle": "2022-03-15T07:50:58.488787Z",
     "shell.execute_reply": "2022-03-15T07:50:58.488193Z"
    }
   },
   "outputs": [
    {
     "data": {
      "text/plain": [
       "<AxesSubplot: xlabel='Peak warming', ylabel='Count'>"
      ]
     },
     "execution_count": 15,
     "metadata": {},
     "output_type": "execute_result"
    },
    {
     "data": {
      "image/png": "[encoded data removed]",
      "text/plain": [
       "<Figure size 640x480 with 1 Axes>"
      ]
     },
     "metadata": {},
     "output_type": "display_data"
    }
   ],
   "source": [
    "label = \"Peak warming\"\n",
    "pdf = peak_warming.reset_index().rename({0: label}, axis=\"columns\")\n",
    "sns.histplot(data=pdf, x=label, hue=\"scenario\")"
   ]
  },
  {
   "cell_type": "markdown",
   "id": "701a8502",
   "metadata": {},
   "source": [
    "Similarly to exceedance probabilties, the order of operations matters: calculating the median of the peaks is different to calculating the median then taking the peak of this median timeseries. In general, the max of the median timeseries is less than or equal to the median of the peak in each timeseries."
   ]
  },
  {
   "cell_type": "code",
   "execution_count": 16,
   "id": "ecf6e831",
   "metadata": {
    "execution": {
     "iopub.execute_input": "2022-03-15T07:50:58.491230Z",
     "iopub.status.busy": "2022-03-15T07:50:58.490874Z",
     "iopub.status.idle": "2022-03-15T07:50:58.536788Z",
     "shell.execute_reply": "2022-03-15T07:50:58.536490Z"
    }
   },
   "outputs": [
    {
     "data": {
      "text/html": [
       "<div>\n",
       "<style scoped>\n",
       "    .dataframe tbody tr th:only-of-type {\n",
       "        vertical-align: middle;\n",
       "    }\n",
       "\n",
       "    .dataframe tbody tr th {\n",
       "        vertical-align: top;\n",
       "    }\n",
       "\n",
       "    .dataframe thead th {\n",
       "        text-align: right;\n",
       "    }\n",
       "</style>\n",
       "<table border=\"1\" class=\"dataframe\">\n",
       "  <thead>\n",
       "    <tr style=\"text-align: right;\">\n",
       "      <th></th>\n",
       "      <th></th>\n",
       "      <th>median of peak warming</th>\n",
       "      <th>max of median timeseries</th>\n",
       "    </tr>\n",
       "    <tr>\n",
       "      <th>model</th>\n",
       "      <th>scenario</th>\n",
       "      <th></th>\n",
       "      <th></th>\n",
       "    </tr>\n",
       "  </thead>\n",
       "  <tbody>\n",
       "    <tr>\n",
       "      <th rowspan=\"8\" valign=\"top\">unspecified</th>\n",
       "      <th>ssp119</th>\n",
       "      <td>1.653</td>\n",
       "      <td>1.645</td>\n",
       "    </tr>\n",
       "    <tr>\n",
       "      <th>ssp126</th>\n",
       "      <td>1.879</td>\n",
       "      <td>1.874</td>\n",
       "    </tr>\n",
       "    <tr>\n",
       "      <th>ssp245</th>\n",
       "      <td>2.838</td>\n",
       "      <td>2.838</td>\n",
       "    </tr>\n",
       "    <tr>\n",
       "      <th>ssp370</th>\n",
       "      <td>4.373</td>\n",
       "      <td>4.373</td>\n",
       "    </tr>\n",
       "    <tr>\n",
       "      <th>ssp434</th>\n",
       "      <td>2.372</td>\n",
       "      <td>2.368</td>\n",
       "    </tr>\n",
       "    <tr>\n",
       "      <th>ssp460</th>\n",
       "      <td>3.486</td>\n",
       "      <td>3.486</td>\n",
       "    </tr>\n",
       "    <tr>\n",
       "      <th>ssp534-over</th>\n",
       "      <td>2.614</td>\n",
       "      <td>2.613</td>\n",
       "    </tr>\n",
       "    <tr>\n",
       "      <th>ssp585</th>\n",
       "      <td>5.279</td>\n",
       "      <td>5.279</td>\n",
       "    </tr>\n",
       "  </tbody>\n",
       "</table>\n",
       "</div>"
      ],
      "text/plain": [
       "                         median of peak warming  max of median timeseries\n",
       "model       scenario                                                     \n",
       "unspecified ssp119                        1.653                     1.645\n",
       "            ssp126                        1.879                     1.874\n",
       "            ssp245                        2.838                     2.838\n",
       "            ssp370                        4.373                     4.373\n",
       "            ssp434                        2.372                     2.368\n",
       "            ssp460                        3.486                     3.486\n",
       "            ssp534-over                   2.614                     2.613\n",
       "            ssp585                        5.279                     5.279"
      ]
     },
     "execution_count": 16,
     "metadata": {},
     "output_type": "execute_result"
    }
   ],
   "source": [
    "comparison = pd.DataFrame(\n",
    "    {\n",
    "        \"median of peak warming\": peak_warming.groupby([\"model\", \"scenario\"]).median(),\n",
    "        \"max of median timeseries\": (\n",
    "            magicc_output.process_over(\n",
    "                list(set(magicc_output.meta.columns) - {\"model\", \"scenario\"}),\n",
    "                \"median\",\n",
    "            ).max(axis=1)\n",
    "        ),\n",
    "    }\n",
    ")\n",
    "comparison.round(3)"
   ]
  },
  {
   "cell_type": "markdown",
   "id": "001fc9d1",
   "metadata": {},
   "source": [
    "## Peak time\n",
    "\n",
    "We can calculate the peak time in each timeseries."
   ]
  },
  {
   "cell_type": "code",
   "execution_count": 17,
   "id": "cd26f835",
   "metadata": {
    "execution": {
     "iopub.execute_input": "2022-03-15T07:50:58.538541Z",
     "iopub.status.busy": "2022-03-15T07:50:58.538377Z",
     "iopub.status.idle": "2022-03-15T07:50:58.596016Z",
     "shell.execute_reply": "2022-03-15T07:50:58.595750Z"
    }
   },
   "outputs": [
    {
     "data": {
      "text/plain": [
       "climate_model  ensemble_member  model        region  scenario  unit  variable                                   \n",
       "MAGICCv7.5.1   0                unspecified  World   ssp585    K     Year of peak Surface Air Temperature Change    2100\n",
       "               1                unspecified  World   ssp585    K     Year of peak Surface Air Temperature Change    2100\n",
       "               2                unspecified  World   ssp585    K     Year of peak Surface Air Temperature Change    2100\n",
       "               3                unspecified  World   ssp585    K     Year of peak Surface Air Temperature Change    2100\n",
       "               4                unspecified  World   ssp585    K     Year of peak Surface Air Temperature Change    2100\n",
       "               5                unspecified  World   ssp585    K     Year of peak Surface Air Temperature Change    2100\n",
       "               6                unspecified  World   ssp585    K     Year of peak Surface Air Temperature Change    2100\n",
       "               7                unspecified  World   ssp585    K     Year of peak Surface Air Temperature Change    2100\n",
       "               8                unspecified  World   ssp585    K     Year of peak Surface Air Temperature Change    2100\n",
       "               9                unspecified  World   ssp585    K     Year of peak Surface Air Temperature Change    2100\n",
       "                                                                                                                    ... \n",
       "               590              unspecified  World   ssp119    K     Year of peak Surface Air Temperature Change    2039\n",
       "               591              unspecified  World   ssp119    K     Year of peak Surface Air Temperature Change    2049\n",
       "               592              unspecified  World   ssp119    K     Year of peak Surface Air Temperature Change    2049\n",
       "               593              unspecified  World   ssp119    K     Year of peak Surface Air Temperature Change    2049\n",
       "               594              unspecified  World   ssp119    K     Year of peak Surface Air Temperature Change    2037\n",
       "               595              unspecified  World   ssp119    K     Year of peak Surface Air Temperature Change    2048\n",
       "               596              unspecified  World   ssp119    K     Year of peak Surface Air Temperature Change    2036\n",
       "               597              unspecified  World   ssp119    K     Year of peak Surface Air Temperature Change    2039\n",
       "               598              unspecified  World   ssp119    K     Year of peak Surface Air Temperature Change    2059\n",
       "               599              unspecified  World   ssp119    K     Year of peak Surface Air Temperature Change    2048\n",
       "Name: 0, Length: 4800, dtype: int64"
      ]
     },
     "execution_count": 17,
     "metadata": {},
     "output_type": "execute_result"
    }
   ],
   "source": [
    "peak_warming_year = scmdata.processing.calculate_peak_time(magicc_output)\n",
    "peak_warming_year"
   ]
  },
  {
   "cell_type": "markdown",
   "id": "65d424ef",
   "metadata": {},
   "source": [
    "From this we can then calculate median peak warming time by scenario (or other quantiles)."
   ]
  },
  {
   "cell_type": "code",
   "execution_count": 18,
   "id": "00984c23",
   "metadata": {
    "execution": {
     "iopub.execute_input": "2022-03-15T07:50:58.597826Z",
     "iopub.status.busy": "2022-03-15T07:50:58.597709Z",
     "iopub.status.idle": "2022-03-15T07:50:58.602997Z",
     "shell.execute_reply": "2022-03-15T07:50:58.602646Z"
    }
   },
   "outputs": [
    {
     "data": {
      "text/plain": [
       "model        scenario   \n",
       "unspecified  ssp119         2048.0\n",
       "             ssp126         2069.0\n",
       "             ssp245         2100.0\n",
       "             ssp370         2100.0\n",
       "             ssp434         2094.0\n",
       "             ssp460         2100.0\n",
       "             ssp534-over    2060.0\n",
       "             ssp585         2100.0\n",
       "Name: 0, dtype: float64"
      ]
     },
     "execution_count": 18,
     "metadata": {},
     "output_type": "execute_result"
    }
   ],
   "source": [
    "peak_warming_year.groupby([\"model\", \"scenario\"]).median()"
   ]
  },
  {
   "cell_type": "code",
   "execution_count": 19,
   "id": "383e9ac3",
   "metadata": {
    "execution": {
     "iopub.execute_input": "2022-03-15T07:50:58.604829Z",
     "iopub.status.busy": "2022-03-15T07:50:58.604669Z",
     "iopub.status.idle": "2022-03-15T07:50:59.515903Z",
     "shell.execute_reply": "2022-03-15T07:50:59.515465Z"
    }
   },
   "outputs": [
    {
     "data": {
      "image/png": "[encoded data removed]",
      "text/plain": [
       "<Figure size 640x480 with 1 Axes>"
      ]
     },
     "metadata": {},
     "output_type": "display_data"
    }
   ],
   "source": [
    "label = \"Peak warming year\"\n",
    "pdf = peak_warming_year.reset_index().rename({0: label}, axis=\"columns\")\n",
    "ax = sns.histplot(data=pdf, x=label, hue=\"scenario\", bins=np.arange(2025, 2100 + 1))"
   ]
  },
  {
   "cell_type": "markdown",
   "id": "a6f09a2d",
   "metadata": {},
   "source": [
    "## SR1.5 categorisation\n",
    " \n",
    "It is also possible to categorise the scenarios using the same categorisation as in SR1.5. To do this we have to first calculate the appropriate quantiles."
   ]
  },
  {
   "cell_type": "code",
   "execution_count": 20,
   "id": "f85add8c",
   "metadata": {
    "execution": {
     "iopub.execute_input": "2022-03-15T07:50:59.518418Z",
     "iopub.status.busy": "2022-03-15T07:50:59.518209Z",
     "iopub.status.idle": "2022-03-15T07:50:59.838564Z",
     "shell.execute_reply": "2022-03-15T07:50:59.838276Z"
    }
   },
   "outputs": [
    {
     "name": "stderr",
     "output_type": "stream",
     "text": [
      "/Users/jared/code/uom/scmdata/src/scmdata/run.py:171: PerformanceWarning: DataFrame is highly fragmented.  This is usually the result of calling `frame.insert` many times, which has poor performance.  Consider joining all columns at once using pd.concat(axis=1) instead. To get a de-fragmented frame, use `newframe = frame.copy()`\n",
      "  df.reset_index(inplace=True)\n",
      "/Users/jared/code/uom/scmdata/src/scmdata/run.py:171: PerformanceWarning: DataFrame is highly fragmented.  This is usually the result of calling `frame.insert` many times, which has poor performance.  Consider joining all columns at once using pd.concat(axis=1) instead. To get a de-fragmented frame, use `newframe = frame.copy()`\n",
      "  df.reset_index(inplace=True)\n",
      "/Users/jared/code/uom/scmdata/src/scmdata/run.py:171: PerformanceWarning: DataFrame is highly fragmented.  This is usually the result of calling `frame.insert` many times, which has poor performance.  Consider joining all columns at once using pd.concat(axis=1) instead. To get a de-fragmented frame, use `newframe = frame.copy()`\n",
      "  df.reset_index(inplace=True)\n",
      "/Users/jared/code/uom/scmdata/src/scmdata/run.py:171: PerformanceWarning: DataFrame is highly fragmented.  This is usually the result of calling `frame.insert` many times, which has poor performance.  Consider joining all columns at once using pd.concat(axis=1) instead. To get a de-fragmented frame, use `newframe = frame.copy()`\n",
      "  df.reset_index(inplace=True)\n",
      "/Users/jared/code/uom/scmdata/src/scmdata/run.py:171: PerformanceWarning: DataFrame is highly fragmented.  This is usually the result of calling `frame.insert` many times, which has poor performance.  Consider joining all columns at once using pd.concat(axis=1) instead. To get a de-fragmented frame, use `newframe = frame.copy()`\n",
      "  df.reset_index(inplace=True)\n",
      "/Users/jared/code/uom/scmdata/src/scmdata/run.py:171: PerformanceWarning: DataFrame is highly fragmented.  This is usually the result of calling `frame.insert` many times, which has poor performance.  Consider joining all columns at once using pd.concat(axis=1) instead. To get a de-fragmented frame, use `newframe = frame.copy()`\n",
      "  df.reset_index(inplace=True)\n",
      "/Users/jared/code/uom/scmdata/src/scmdata/run.py:171: PerformanceWarning: DataFrame is highly fragmented.  This is usually the result of calling `frame.insert` many times, which has poor performance.  Consider joining all columns at once using pd.concat(axis=1) instead. To get a de-fragmented frame, use `newframe = frame.copy()`\n",
      "  df.reset_index(inplace=True)\n"
     ]
    },
    {
     "data": {
      "text/plain": [
       "<ScmRun (timeseries: 24, timepoints: 106)>\n",
       "Time:\n",
       "\tStart: 1995-01-01T00:00:00\n",
       "\tEnd: 2100-01-01T00:00:00\n",
       "Meta:\n",
       "\t   climate_model        model  quantile region     scenario unit                        variable\n",
       "\t0   MAGICCv7.5.1  unspecified      0.33  World       ssp119    K  Surface Air Temperature Change\n",
       "\t1   MAGICCv7.5.1  unspecified      0.33  World       ssp126    K  Surface Air Temperature Change\n",
       "\t2   MAGICCv7.5.1  unspecified      0.33  World       ssp245    K  Surface Air Temperature Change\n",
       "\t3   MAGICCv7.5.1  unspecified      0.33  World       ssp370    K  Surface Air Temperature Change\n",
       "\t4   MAGICCv7.5.1  unspecified      0.33  World       ssp434    K  Surface Air Temperature Change\n",
       "\t5   MAGICCv7.5.1  unspecified      0.33  World       ssp460    K  Surface Air Temperature Change\n",
       "\t6   MAGICCv7.5.1  unspecified      0.33  World  ssp534-over    K  Surface Air Temperature Change\n",
       "\t7   MAGICCv7.5.1  unspecified      0.33  World       ssp585    K  Surface Air Temperature Change\n",
       "\t8   MAGICCv7.5.1  unspecified      0.50  World       ssp119    K  Surface Air Temperature Change\n",
       "\t9   MAGICCv7.5.1  unspecified      0.50  World       ssp126    K  Surface Air Temperature Change\n",
       "\t10  MAGICCv7.5.1  unspecified      0.50  World       ssp245    K  Surface Air Temperature Change\n",
       "\t11  MAGICCv7.5.1  unspecified      0.50  World       ssp370    K  Surface Air Temperature Change\n",
       "\t12  MAGICCv7.5.1  unspecified      0.50  World       ssp434    K  Surface Air Temperature Change\n",
       "\t13  MAGICCv7.5.1  unspecified      0.50  World       ssp460    K  Surface Air Temperature Change\n",
       "\t14  MAGICCv7.5.1  unspecified      0.50  World  ssp534-over    K  Surface Air Temperature Change\n",
       "\t15  MAGICCv7.5.1  unspecified      0.50  World       ssp585    K  Surface Air Temperature Change\n",
       "\t16  MAGICCv7.5.1  unspecified      0.66  World       ssp119    K  Surface Air Temperature Change\n",
       "\t17  MAGICCv7.5.1  unspecified      0.66  World       ssp126    K  Surface Air Temperature Change\n",
       "\t18  MAGICCv7.5.1  unspecified      0.66  World       ssp245    K  Surface Air Temperature Change\n",
       "\t19  MAGICCv7.5.1  unspecified      0.66  World       ssp370    K  Surface Air Temperature Change\n",
       "\t20  MAGICCv7.5.1  unspecified      0.66  World       ssp434    K  Surface Air Temperature Change\n",
       "\t21  MAGICCv7.5.1  unspecified      0.66  World       ssp460    K  Surface Air Temperature Change\n",
       "\t22  MAGICCv7.5.1  unspecified      0.66  World  ssp534-over    K  Surface Air Temperature Change\n",
       "\t23  MAGICCv7.5.1  unspecified      0.66  World       ssp585    K  Surface Air Temperature Change"
      ]
     },
     "execution_count": 20,
     "metadata": {},
     "output_type": "execute_result"
    }
   ],
   "source": [
    "magicc_output_categorisation_quantiles = scmdata.ScmRun(\n",
    "    magicc_output.quantiles_over(\"ensemble_member\", quantiles=[0.33, 0.5, 0.66])\n",
    ")\n",
    "magicc_output_categorisation_quantiles"
   ]
  },
  {
   "cell_type": "code",
   "execution_count": 21,
   "id": "19da00db",
   "metadata": {
    "execution": {
     "iopub.execute_input": "2022-03-15T07:50:59.840491Z",
     "iopub.status.busy": "2022-03-15T07:50:59.840353Z",
     "iopub.status.idle": "2022-03-15T07:50:59.896054Z",
     "shell.execute_reply": "2022-03-15T07:50:59.895676Z"
    }
   },
   "outputs": [
    {
     "data": {
      "text/plain": [
       "climate_model  scenario   \n",
       "MAGICCv7.5.1   ssp119         1.5C high overshoot\n",
       "               ssp126                   Higher 2C\n",
       "               ssp245                    Above 2C\n",
       "               ssp370                    Above 2C\n",
       "               ssp434                    Above 2C\n",
       "               ssp460                    Above 2C\n",
       "               ssp534-over               Above 2C\n",
       "               ssp585                    Above 2C\n",
       "Name: category, dtype: object"
      ]
     },
     "execution_count": 21,
     "metadata": {},
     "output_type": "execute_result"
    }
   ],
   "source": [
    "scmdata.processing.categorisation_sr15(\n",
    "    magicc_output_categorisation_quantiles, [\"climate_model\", \"scenario\"]\n",
    ")"
   ]
  },
  {
   "cell_type": "markdown",
   "id": "b722c34a",
   "metadata": {},
   "source": [
    "## Set of summary variables\n",
    "\n",
    "It is also possible to calculate a set of summary variables using the convenience function `calculate_summary_stats`. The documentation is given below."
   ]
  },
  {
   "cell_type": "code",
   "execution_count": 22,
   "id": "031e84f5",
   "metadata": {
    "execution": {
     "iopub.execute_input": "2022-03-15T07:50:59.898499Z",
     "iopub.status.busy": "2022-03-15T07:50:59.898346Z",
     "iopub.status.idle": "2022-03-15T07:50:59.901032Z",
     "shell.execute_reply": "2022-03-15T07:50:59.900617Z"
    }
   },
   "outputs": [
    {
     "name": "stdout",
     "output_type": "stream",
     "text": [
      "\n",
      "    Calculate common summary statistics\n",
      "\n",
      "    Parameters\n",
      "    ----------\n",
      "    scmrun : :class:`scmdata.ScmRun`\n",
      "        Data of which to calculate the stats\n",
      "\n",
      "    index : list[str]\n",
      "        Columns to use in the index of the output (unit is added if not\n",
      "        included)\n",
      "\n",
      "    exceedance_probabilities_threshold : list[float]\n",
      "        Thresholds to use for exceedance probabilities\n",
      "\n",
      "    exceedance_probabilities_variable : str\n",
      "        Variable to use for exceedance probability calculations\n",
      "\n",
      "    exceedance_probabilities_naming_base : str\n",
      "        String to use as the base for naming the exceedance probabilities. Each\n",
      "        exceedance probability output column will have a name given by\n",
      "        ``exceedance_probabilities_naming_base.format(threshold)`` where\n",
      "        threshold is the exceedance probability threshold to use. If not\n",
      "        supplied, the default output of\n",
      "        :func:`scmdata.processing.calculate_exceedance_probabilities` will be\n",
      "        used.\n",
      "\n",
      "    peak_quantiles : list[float]\n",
      "        Quantiles to report in peak calculations\n",
      "\n",
      "    peak_variable : str\n",
      "        Variable of which to calculate the peak\n",
      "\n",
      "    peak_naming_base : str\n",
      "        Base to use for naming the peak outputs. This is combined with the\n",
      "        quantile. If not supplied, ``\"{} peak\"`` is used so the outputs will be\n",
      "        named e.g. \"0.05 peak\", \"0.5 peak\", \"0.95 peak\".\n",
      "\n",
      "    peak_time_naming_base : str\n",
      "        Base to use for naming the peak time outputs. This is combined with the\n",
      "        quantile. If not supplied, ``\"{} peak year\"`` is used (unless\n",
      "        ``peak_return_year`` is ``False`` in which case ``\"{} peak time\"`` is\n",
      "        used) so the outputs will be named e.g. \"0.05 peak year\", \"0.5 peak\n",
      "        year\", \"0.95 peak year\".\n",
      "\n",
      "    peak_return_year : bool\n",
      "        If ``True``, return the year of the peak of ``peak_variable``,\n",
      "        otherwise return full dates\n",
      "\n",
      "    categorisation_variable : str\n",
      "        Variable to use for categorisation. Note that this variable point to\n",
      "        timeseries that contain global-mean surface air temperatures  (GSAT)\n",
      "        relative to 1850-1900 (using another reference period will not break\n",
      "        this function, but is inconsistent with the original algorithm).\n",
      "\n",
      "    categorisation_quantile_cols : list[str]\n",
      "        Columns which represent individual ensemble members in the output (e.g.\n",
      "        [\"ensemble_member\"]). The quantiles are taking over these columns\n",
      "        before the data is passed to\n",
      "        :func:`scmdata.processing.categorisation_sr15`.\n",
      "\n",
      "    progress : bool\n",
      "        Should a progress bar be shown whilst the calculations are done?\n",
      "\n",
      "    Returns\n",
      "    -------\n",
      "    :class:`pd.DataFrame`\n",
      "        Summary statistics, with each column being a statistic and the index\n",
      "        being given by ``index``\n",
      "    \n"
     ]
    }
   ],
   "source": [
    "print(scmdata.processing.calculate_summary_stats.__doc__)"
   ]
  },
  {
   "cell_type": "markdown",
   "id": "82eb4967",
   "metadata": {},
   "source": [
    "It can be used to calculate summary statistics as shown below."
   ]
  },
  {
   "cell_type": "code",
   "execution_count": 23,
   "id": "9a4dd407",
   "metadata": {
    "execution": {
     "iopub.execute_input": "2022-03-15T07:50:59.902619Z",
     "iopub.status.busy": "2022-03-15T07:50:59.902364Z",
     "iopub.status.idle": "2022-03-15T07:51:00.511838Z",
     "shell.execute_reply": "2022-03-15T07:51:00.511578Z"
    }
   },
   "outputs": [
    {
     "name": "stderr",
     "output_type": "stream",
     "text": [
      "/Users/jared/code/uom/scmdata/src/scmdata/run.py:171: PerformanceWarning: DataFrame is highly fragmented.  This is usually the result of calling `frame.insert` many times, which has poor performance.  Consider joining all columns at once using pd.concat(axis=1) instead. To get a de-fragmented frame, use `newframe = frame.copy()`\n",
      "  df.reset_index(inplace=True)\n",
      "/Users/jared/code/uom/scmdata/src/scmdata/run.py:171: PerformanceWarning: DataFrame is highly fragmented.  This is usually the result of calling `frame.insert` many times, which has poor performance.  Consider joining all columns at once using pd.concat(axis=1) instead. To get a de-fragmented frame, use `newframe = frame.copy()`\n",
      "  df.reset_index(inplace=True)\n",
      "/Users/jared/code/uom/scmdata/src/scmdata/run.py:171: PerformanceWarning: DataFrame is highly fragmented.  This is usually the result of calling `frame.insert` many times, which has poor performance.  Consider joining all columns at once using pd.concat(axis=1) instead. To get a de-fragmented frame, use `newframe = frame.copy()`\n",
      "  df.reset_index(inplace=True)\n",
      "/Users/jared/code/uom/scmdata/src/scmdata/run.py:171: PerformanceWarning: DataFrame is highly fragmented.  This is usually the result of calling `frame.insert` many times, which has poor performance.  Consider joining all columns at once using pd.concat(axis=1) instead. To get a de-fragmented frame, use `newframe = frame.copy()`\n",
      "  df.reset_index(inplace=True)\n",
      "/Users/jared/code/uom/scmdata/src/scmdata/run.py:171: PerformanceWarning: DataFrame is highly fragmented.  This is usually the result of calling `frame.insert` many times, which has poor performance.  Consider joining all columns at once using pd.concat(axis=1) instead. To get a de-fragmented frame, use `newframe = frame.copy()`\n",
      "  df.reset_index(inplace=True)\n",
      "/Users/jared/code/uom/scmdata/src/scmdata/run.py:171: PerformanceWarning: DataFrame is highly fragmented.  This is usually the result of calling `frame.insert` many times, which has poor performance.  Consider joining all columns at once using pd.concat(axis=1) instead. To get a de-fragmented frame, use `newframe = frame.copy()`\n",
      "  df.reset_index(inplace=True)\n",
      "/Users/jared/code/uom/scmdata/src/scmdata/run.py:171: PerformanceWarning: DataFrame is highly fragmented.  This is usually the result of calling `frame.insert` many times, which has poor performance.  Consider joining all columns at once using pd.concat(axis=1) instead. To get a de-fragmented frame, use `newframe = frame.copy()`\n",
      "  df.reset_index(inplace=True)\n"
     ]
    },
    {
     "data": {
      "application/vnd.jupyter.widget-view+json": {
       "model_id": "9d814565f9ce4ea394357d5f0decc67b",
       "version_major": 2,
       "version_minor": 0
      },
      "text/plain": [
       "  0%|          | 0/23 [00:00<?, ?it/s]"
      ]
     },
     "metadata": {},
     "output_type": "display_data"
    },
    {
     "data": {
      "text/plain": [
       "climate_model  model        scenario     region  unit           statistic                                                  \n",
       "MAGICCv7.5.1   unspecified  ssp119       World   dimensionless  Exceedance Probability|1.00K                                                   1.0\n",
       "                                                                Exceedance Probability|1.10K                                                   1.0\n",
       "                                                                Exceedance Probability|1.20K                                                   1.0\n",
       "                                                                Exceedance Probability|1.30K                                              0.976667\n",
       "                                                                Exceedance Probability|1.40K                                              0.888333\n",
       "                                                                Exceedance Probability|1.50K                                              0.743333\n",
       "                                                                Exceedance Probability|1.60K                                              0.608333\n",
       "                                                                Exceedance Probability|1.70K                                              0.418333\n",
       "                                                                Exceedance Probability|1.80K                                              0.286667\n",
       "                                                                Exceedance Probability|1.90K                                              0.156667\n",
       "                                                                                                                                      ...         \n",
       "                            ssp585       World   K              Year of peak Surface Air Temperature Change|0.5th quantile                  2100.0\n",
       "                                                                Year of peak Surface Air Temperature Change|0.95th quantile                 2100.0\n",
       "                            ssp119       World                  SR1.5 category                                                 1.5C high overshoot\n",
       "                            ssp126       World                  SR1.5 category                                                           Higher 2C\n",
       "                            ssp245       World                  SR1.5 category                                                            Above 2C\n",
       "                            ssp370       World                  SR1.5 category                                                            Above 2C\n",
       "                            ssp434       World                  SR1.5 category                                                            Above 2C\n",
       "                            ssp460       World                  SR1.5 category                                                            Above 2C\n",
       "                            ssp534-over  World                  SR1.5 category                                                            Above 2C\n",
       "                            ssp585       World                  SR1.5 category                                                            Above 2C\n",
       "Name: value, Length: 184, dtype: object"
      ]
     },
     "execution_count": 23,
     "metadata": {},
     "output_type": "execute_result"
    }
   ],
   "source": [
    "summary_stats = scmdata.processing.calculate_summary_stats(\n",
    "    magicc_output,\n",
    "    [\"climate_model\", \"model\", \"scenario\", \"region\"],\n",
    "    exceedance_probabilities_thresholds=np.arange(1, 2.51, 0.1),\n",
    "    exceedance_probabilities_variable=\"Surface Air Temperature Change\",\n",
    "    exceedance_probabilities_naming_base=\"Exceedance Probability|{:.2f}K\",\n",
    "    peak_quantiles=[0.05, 0.5, 0.95],\n",
    "    peak_variable=\"Surface Air Temperature Change\",\n",
    "    peak_naming_base=\"Peak Surface Air Temperature Change|{}th quantile\",\n",
    "    peak_time_naming_base=\"Year of peak Surface Air Temperature Change|{}th quantile\",\n",
    "    peak_return_year=True,\n",
    "    progress=True,\n",
    ")\n",
    "summary_stats"
   ]
  },
  {
   "cell_type": "markdown",
   "id": "616d7a8e",
   "metadata": {},
   "source": [
    "We can then use pandas to create summary tables of interest."
   ]
  },
  {
   "cell_type": "code",
   "execution_count": 24,
   "id": "63d3792a",
   "metadata": {
    "execution": {
     "iopub.execute_input": "2022-03-15T07:51:00.513592Z",
     "iopub.status.busy": "2022-03-15T07:51:00.513468Z",
     "iopub.status.idle": "2022-03-15T07:51:00.528584Z",
     "shell.execute_reply": "2022-03-15T07:51:00.527840Z"
    }
   },
   "outputs": [
    {
     "data": {
      "text/html": [
       "<div>\n",
       "<style scoped>\n",
       "    .dataframe tbody tr th:only-of-type {\n",
       "        vertical-align: middle;\n",
       "    }\n",
       "\n",
       "    .dataframe tbody tr th {\n",
       "        vertical-align: top;\n",
       "    }\n",
       "\n",
       "    .dataframe thead tr th {\n",
       "        text-align: left;\n",
       "    }\n",
       "\n",
       "    .dataframe thead tr:last-of-type th {\n",
       "        text-align: right;\n",
       "    }\n",
       "</style>\n",
       "<table border=\"1\" class=\"dataframe\">\n",
       "  <thead>\n",
       "    <tr>\n",
       "      <th></th>\n",
       "      <th></th>\n",
       "      <th>climate_model</th>\n",
       "      <th colspan=\"15\" halign=\"left\">MAGICCv7.5.1</th>\n",
       "    </tr>\n",
       "    <tr>\n",
       "      <th></th>\n",
       "      <th></th>\n",
       "      <th>statistic</th>\n",
       "      <th>Exceedance Probability|1.00K</th>\n",
       "      <th>Exceedance Probability|1.10K</th>\n",
       "      <th>Exceedance Probability|1.20K</th>\n",
       "      <th>Exceedance Probability|1.30K</th>\n",
       "      <th>Exceedance Probability|1.40K</th>\n",
       "      <th>Exceedance Probability|1.50K</th>\n",
       "      <th>Exceedance Probability|1.60K</th>\n",
       "      <th>...</th>\n",
       "      <th>Peak Surface Air Temperature Change|0.05th quantile</th>\n",
       "      <th>Peak Surface Air Temperature Change|0.5th quantile</th>\n",
       "      <th>Peak Surface Air Temperature Change|0.95th quantile</th>\n",
       "      <th>Year of peak Surface Air Temperature Change|0.05th quantile</th>\n",
       "      <th>Year of peak Surface Air Temperature Change|0.5th quantile</th>\n",
       "      <th>Year of peak Surface Air Temperature Change|0.95th quantile</th>\n",
       "      <th>SR1.5 category</th>\n",
       "    </tr>\n",
       "    <tr>\n",
       "      <th></th>\n",
       "      <th></th>\n",
       "      <th>unit</th>\n",
       "      <th>dimensionless</th>\n",
       "      <th>dimensionless</th>\n",
       "      <th>dimensionless</th>\n",
       "      <th>dimensionless</th>\n",
       "      <th>dimensionless</th>\n",
       "      <th>dimensionless</th>\n",
       "      <th>dimensionless</th>\n",
       "      <th>...</th>\n",
       "      <th>K</th>\n",
       "      <th>K</th>\n",
       "      <th>K</th>\n",
       "      <th>K</th>\n",
       "      <th>K</th>\n",
       "      <th>K</th>\n",
       "      <th></th>\n",
       "    </tr>\n",
       "    <tr>\n",
       "      <th>model</th>\n",
       "      <th>scenario</th>\n",
       "      <th>region</th>\n",
       "      <th></th>\n",
       "      <th></th>\n",
       "      <th></th>\n",
       "      <th></th>\n",
       "      <th></th>\n",
       "      <th></th>\n",
       "      <th></th>\n",
       "      <th></th>\n",
       "      <th></th>\n",
       "      <th></th>\n",
       "      <th></th>\n",
       "      <th></th>\n",
       "      <th></th>\n",
       "      <th></th>\n",
       "      <th></th>\n",
       "    </tr>\n",
       "  </thead>\n",
       "  <tbody>\n",
       "    <tr>\n",
       "      <th rowspan=\"8\" valign=\"top\">unspecified</th>\n",
       "      <th>ssp119</th>\n",
       "      <th>World</th>\n",
       "      <td>1.0</td>\n",
       "      <td>1.0</td>\n",
       "      <td>1.0</td>\n",
       "      <td>0.976667</td>\n",
       "      <td>0.888333</td>\n",
       "      <td>0.743333</td>\n",
       "      <td>0.608333</td>\n",
       "      <td>...</td>\n",
       "      <td>1.345672</td>\n",
       "      <td>1.653154</td>\n",
       "      <td>2.071348</td>\n",
       "      <td>2037.0</td>\n",
       "      <td>2048.0</td>\n",
       "      <td>2050.0</td>\n",
       "      <td>1.5C high overshoot</td>\n",
       "    </tr>\n",
       "    <tr>\n",
       "      <th>ssp126</th>\n",
       "      <th>World</th>\n",
       "      <td>1.0</td>\n",
       "      <td>1.0</td>\n",
       "      <td>1.0</td>\n",
       "      <td>1.0</td>\n",
       "      <td>0.988333</td>\n",
       "      <td>0.94</td>\n",
       "      <td>0.836667</td>\n",
       "      <td>...</td>\n",
       "      <td>1.478604</td>\n",
       "      <td>1.87889</td>\n",
       "      <td>2.425129</td>\n",
       "      <td>2059.0</td>\n",
       "      <td>2069.0</td>\n",
       "      <td>2081.0</td>\n",
       "      <td>Higher 2C</td>\n",
       "    </tr>\n",
       "    <tr>\n",
       "      <th>ssp245</th>\n",
       "      <th>World</th>\n",
       "      <td>1.0</td>\n",
       "      <td>1.0</td>\n",
       "      <td>1.0</td>\n",
       "      <td>1.0</td>\n",
       "      <td>1.0</td>\n",
       "      <td>1.0</td>\n",
       "      <td>1.0</td>\n",
       "      <td>...</td>\n",
       "      <td>2.218657</td>\n",
       "      <td>2.838238</td>\n",
       "      <td>3.642782</td>\n",
       "      <td>2100.0</td>\n",
       "      <td>2100.0</td>\n",
       "      <td>2100.0</td>\n",
       "      <td>Above 2C</td>\n",
       "    </tr>\n",
       "    <tr>\n",
       "      <th>ssp370</th>\n",
       "      <th>World</th>\n",
       "      <td>1.0</td>\n",
       "      <td>1.0</td>\n",
       "      <td>1.0</td>\n",
       "      <td>1.0</td>\n",
       "      <td>1.0</td>\n",
       "      <td>1.0</td>\n",
       "      <td>1.0</td>\n",
       "      <td>...</td>\n",
       "      <td>3.476406</td>\n",
       "      <td>4.372581</td>\n",
       "      <td>5.35643</td>\n",
       "      <td>2100.0</td>\n",
       "      <td>2100.0</td>\n",
       "      <td>2100.0</td>\n",
       "      <td>Above 2C</td>\n",
       "    </tr>\n",
       "    <tr>\n",
       "      <th>ssp434</th>\n",
       "      <th>World</th>\n",
       "      <td>1.0</td>\n",
       "      <td>1.0</td>\n",
       "      <td>1.0</td>\n",
       "      <td>1.0</td>\n",
       "      <td>1.0</td>\n",
       "      <td>1.0</td>\n",
       "      <td>1.0</td>\n",
       "      <td>...</td>\n",
       "      <td>1.898714</td>\n",
       "      <td>2.371833</td>\n",
       "      <td>2.958278</td>\n",
       "      <td>2092.0</td>\n",
       "      <td>2094.0</td>\n",
       "      <td>2100.0</td>\n",
       "      <td>Above 2C</td>\n",
       "    </tr>\n",
       "    <tr>\n",
       "      <th>ssp460</th>\n",
       "      <th>World</th>\n",
       "      <td>1.0</td>\n",
       "      <td>1.0</td>\n",
       "      <td>1.0</td>\n",
       "      <td>1.0</td>\n",
       "      <td>1.0</td>\n",
       "      <td>1.0</td>\n",
       "      <td>1.0</td>\n",
       "      <td>...</td>\n",
       "      <td>2.753816</td>\n",
       "      <td>3.485626</td>\n",
       "      <td>4.373157</td>\n",
       "      <td>2100.0</td>\n",
       "      <td>2100.0</td>\n",
       "      <td>2100.0</td>\n",
       "      <td>Above 2C</td>\n",
       "    </tr>\n",
       "    <tr>\n",
       "      <th>ssp534-over</th>\n",
       "      <th>World</th>\n",
       "      <td>1.0</td>\n",
       "      <td>1.0</td>\n",
       "      <td>1.0</td>\n",
       "      <td>1.0</td>\n",
       "      <td>1.0</td>\n",
       "      <td>1.0</td>\n",
       "      <td>1.0</td>\n",
       "      <td>...</td>\n",
       "      <td>2.100912</td>\n",
       "      <td>2.613975</td>\n",
       "      <td>3.299928</td>\n",
       "      <td>2058.0</td>\n",
       "      <td>2060.0</td>\n",
       "      <td>2069.0</td>\n",
       "      <td>Above 2C</td>\n",
       "    </tr>\n",
       "    <tr>\n",
       "      <th>ssp585</th>\n",
       "      <th>World</th>\n",
       "      <td>1.0</td>\n",
       "      <td>1.0</td>\n",
       "      <td>1.0</td>\n",
       "      <td>1.0</td>\n",
       "      <td>1.0</td>\n",
       "      <td>1.0</td>\n",
       "      <td>1.0</td>\n",
       "      <td>...</td>\n",
       "      <td>4.094323</td>\n",
       "      <td>5.278692</td>\n",
       "      <td>6.75008</td>\n",
       "      <td>2100.0</td>\n",
       "      <td>2100.0</td>\n",
       "      <td>2100.0</td>\n",
       "      <td>Above 2C</td>\n",
       "    </tr>\n",
       "  </tbody>\n",
       "</table>\n",
       "<p>8 rows × 23 columns</p>\n",
       "</div>"
      ],
      "text/plain": [
       "climate_model                                  MAGICCv7.5.1                                                            \\\n",
       "statistic                      Exceedance Probability|1.00K Exceedance Probability|1.10K Exceedance Probability|1.20K   \n",
       "unit                                          dimensionless                dimensionless                dimensionless   \n",
       "model       scenario    region                                                                                          \n",
       "unspecified ssp119      World                           1.0                          1.0                          1.0   \n",
       "            ssp126      World                           1.0                          1.0                          1.0   \n",
       "            ssp245      World                           1.0                          1.0                          1.0   \n",
       "            ssp370      World                           1.0                          1.0                          1.0   \n",
       "            ssp434      World                           1.0                          1.0                          1.0   \n",
       "            ssp460      World                           1.0                          1.0                          1.0   \n",
       "            ssp534-over World                           1.0                          1.0                          1.0   \n",
       "            ssp585      World                           1.0                          1.0                          1.0   \n",
       "\n",
       "climate_model                                                                                                          \\\n",
       "statistic                      Exceedance Probability|1.30K Exceedance Probability|1.40K Exceedance Probability|1.50K   \n",
       "unit                                          dimensionless                dimensionless                dimensionless   \n",
       "model       scenario    region                                                                                          \n",
       "unspecified ssp119      World                      0.976667                     0.888333                     0.743333   \n",
       "            ssp126      World                           1.0                     0.988333                         0.94   \n",
       "            ssp245      World                           1.0                          1.0                          1.0   \n",
       "            ssp370      World                           1.0                          1.0                          1.0   \n",
       "            ssp434      World                           1.0                          1.0                          1.0   \n",
       "            ssp460      World                           1.0                          1.0                          1.0   \n",
       "            ssp534-over World                           1.0                          1.0                          1.0   \n",
       "            ssp585      World                           1.0                          1.0                          1.0   \n",
       "\n",
       "climate_model                                                ...                                                      \\\n",
       "statistic                      Exceedance Probability|1.60K  ... Peak Surface Air Temperature Change|0.05th quantile   \n",
       "unit                                          dimensionless  ...                                                   K   \n",
       "model       scenario    region                               ...                                                       \n",
       "unspecified ssp119      World                      0.608333  ...                                            1.345672   \n",
       "            ssp126      World                      0.836667  ...                                            1.478604   \n",
       "            ssp245      World                           1.0  ...                                            2.218657   \n",
       "            ssp370      World                           1.0  ...                                            3.476406   \n",
       "            ssp434      World                           1.0  ...                                            1.898714   \n",
       "            ssp460      World                           1.0  ...                                            2.753816   \n",
       "            ssp534-over World                           1.0  ...                                            2.100912   \n",
       "            ssp585      World                           1.0  ...                                            4.094323   \n",
       "\n",
       "climate_model                                                                      \\\n",
       "statistic                      Peak Surface Air Temperature Change|0.5th quantile   \n",
       "unit                                                                            K   \n",
       "model       scenario    region                                                      \n",
       "unspecified ssp119      World                                            1.653154   \n",
       "            ssp126      World                                             1.87889   \n",
       "            ssp245      World                                            2.838238   \n",
       "            ssp370      World                                            4.372581   \n",
       "            ssp434      World                                            2.371833   \n",
       "            ssp460      World                                            3.485626   \n",
       "            ssp534-over World                                            2.613975   \n",
       "            ssp585      World                                            5.278692   \n",
       "\n",
       "climate_model                                                                       \\\n",
       "statistic                      Peak Surface Air Temperature Change|0.95th quantile   \n",
       "unit                                                                             K   \n",
       "model       scenario    region                                                       \n",
       "unspecified ssp119      World                                             2.071348   \n",
       "            ssp126      World                                             2.425129   \n",
       "            ssp245      World                                             3.642782   \n",
       "            ssp370      World                                              5.35643   \n",
       "            ssp434      World                                             2.958278   \n",
       "            ssp460      World                                             4.373157   \n",
       "            ssp534-over World                                             3.299928   \n",
       "            ssp585      World                                              6.75008   \n",
       "\n",
       "climate_model                                                                               \\\n",
       "statistic                      Year of peak Surface Air Temperature Change|0.05th quantile   \n",
       "unit                                                                                     K   \n",
       "model       scenario    region                                                               \n",
       "unspecified ssp119      World                                                       2037.0   \n",
       "            ssp126      World                                                       2059.0   \n",
       "            ssp245      World                                                       2100.0   \n",
       "            ssp370      World                                                       2100.0   \n",
       "            ssp434      World                                                       2092.0   \n",
       "            ssp460      World                                                       2100.0   \n",
       "            ssp534-over World                                                       2058.0   \n",
       "            ssp585      World                                                       2100.0   \n",
       "\n",
       "climate_model                                                                              \\\n",
       "statistic                      Year of peak Surface Air Temperature Change|0.5th quantile   \n",
       "unit                                                                                    K   \n",
       "model       scenario    region                                                              \n",
       "unspecified ssp119      World                                                      2048.0   \n",
       "            ssp126      World                                                      2069.0   \n",
       "            ssp245      World                                                      2100.0   \n",
       "            ssp370      World                                                      2100.0   \n",
       "            ssp434      World                                                      2094.0   \n",
       "            ssp460      World                                                      2100.0   \n",
       "            ssp534-over World                                                      2060.0   \n",
       "            ssp585      World                                                      2100.0   \n",
       "\n",
       "climate_model                                                                                                    \n",
       "statistic                      Year of peak Surface Air Temperature Change|0.95th quantile       SR1.5 category  \n",
       "unit                                                                                     K                       \n",
       "model       scenario    region                                                                                   \n",
       "unspecified ssp119      World                                                       2050.0  1.5C high overshoot  \n",
       "            ssp126      World                                                       2081.0            Higher 2C  \n",
       "            ssp245      World                                                       2100.0             Above 2C  \n",
       "            ssp370      World                                                       2100.0             Above 2C  \n",
       "            ssp434      World                                                       2100.0             Above 2C  \n",
       "            ssp460      World                                                       2100.0             Above 2C  \n",
       "            ssp534-over World                                                       2069.0             Above 2C  \n",
       "            ssp585      World                                                       2100.0             Above 2C  \n",
       "\n",
       "[8 rows x 23 columns]"
      ]
     },
     "execution_count": 24,
     "metadata": {},
     "output_type": "execute_result"
    }
   ],
   "source": [
    "summary_stats.unstack([\"climate_model\", \"statistic\", \"unit\"])"
   ]
  },
  {
   "cell_type": "code",
   "execution_count": 25,
   "id": "cc237c1a",
   "metadata": {
    "execution": {
     "iopub.execute_input": "2022-03-15T07:51:00.530864Z",
     "iopub.status.busy": "2022-03-15T07:51:00.530572Z",
     "iopub.status.idle": "2022-03-15T07:51:00.550893Z",
     "shell.execute_reply": "2022-03-15T07:51:00.550430Z"
    }
   },
   "outputs": [
    {
     "data": {
      "text/html": [
       "<div>\n",
       "<style scoped>\n",
       "    .dataframe tbody tr th:only-of-type {\n",
       "        vertical-align: middle;\n",
       "    }\n",
       "\n",
       "    .dataframe tbody tr th {\n",
       "        vertical-align: top;\n",
       "    }\n",
       "\n",
       "    .dataframe thead tr th {\n",
       "        text-align: left;\n",
       "    }\n",
       "\n",
       "    .dataframe thead tr:last-of-type th {\n",
       "        text-align: right;\n",
       "    }\n",
       "</style>\n",
       "<table border=\"1\" class=\"dataframe\">\n",
       "  <thead>\n",
       "    <tr>\n",
       "      <th></th>\n",
       "      <th></th>\n",
       "      <th></th>\n",
       "      <th></th>\n",
       "      <th colspan=\"15\" halign=\"left\">value</th>\n",
       "    </tr>\n",
       "    <tr>\n",
       "      <th></th>\n",
       "      <th></th>\n",
       "      <th></th>\n",
       "      <th>statistic</th>\n",
       "      <th>Exceedance Probability|1.00K(dimensionless)</th>\n",
       "      <th>Exceedance Probability|1.10K(dimensionless)</th>\n",
       "      <th>Exceedance Probability|1.20K(dimensionless)</th>\n",
       "      <th>Exceedance Probability|1.30K(dimensionless)</th>\n",
       "      <th>Exceedance Probability|1.40K(dimensionless)</th>\n",
       "      <th>Exceedance Probability|1.50K(dimensionless)</th>\n",
       "      <th>Exceedance Probability|1.60K(dimensionless)</th>\n",
       "      <th>...</th>\n",
       "      <th>Peak Surface Air Temperature Change|0.05th quantile(K)</th>\n",
       "      <th>Peak Surface Air Temperature Change|0.5th quantile(K)</th>\n",
       "      <th>Peak Surface Air Temperature Change|0.95th quantile(K)</th>\n",
       "      <th>SR1.5 category</th>\n",
       "      <th>Year of peak Surface Air Temperature Change|0.05th quantile(K)</th>\n",
       "      <th>Year of peak Surface Air Temperature Change|0.5th quantile(K)</th>\n",
       "      <th>Year of peak Surface Air Temperature Change|0.95th quantile(K)</th>\n",
       "    </tr>\n",
       "    <tr>\n",
       "      <th>region</th>\n",
       "      <th>scenario</th>\n",
       "      <th>model</th>\n",
       "      <th>climate_model</th>\n",
       "      <th></th>\n",
       "      <th></th>\n",
       "      <th></th>\n",
       "      <th></th>\n",
       "      <th></th>\n",
       "      <th></th>\n",
       "      <th></th>\n",
       "      <th></th>\n",
       "      <th></th>\n",
       "      <th></th>\n",
       "      <th></th>\n",
       "      <th></th>\n",
       "      <th></th>\n",
       "      <th></th>\n",
       "      <th></th>\n",
       "    </tr>\n",
       "  </thead>\n",
       "  <tbody>\n",
       "    <tr>\n",
       "      <th rowspan=\"8\" valign=\"top\">World</th>\n",
       "      <th>ssp119</th>\n",
       "      <th>unspecified</th>\n",
       "      <th>MAGICCv7.5.1</th>\n",
       "      <td>1.0</td>\n",
       "      <td>1.0</td>\n",
       "      <td>1.0</td>\n",
       "      <td>0.976667</td>\n",
       "      <td>0.888333</td>\n",
       "      <td>0.743333</td>\n",
       "      <td>0.608333</td>\n",
       "      <td>...</td>\n",
       "      <td>1.345672</td>\n",
       "      <td>1.653154</td>\n",
       "      <td>2.071348</td>\n",
       "      <td>1.5C high overshoot</td>\n",
       "      <td>2037.0</td>\n",
       "      <td>2048.0</td>\n",
       "      <td>2050.0</td>\n",
       "    </tr>\n",
       "    <tr>\n",
       "      <th>ssp126</th>\n",
       "      <th>unspecified</th>\n",
       "      <th>MAGICCv7.5.1</th>\n",
       "      <td>1.0</td>\n",
       "      <td>1.0</td>\n",
       "      <td>1.0</td>\n",
       "      <td>1.0</td>\n",
       "      <td>0.988333</td>\n",
       "      <td>0.94</td>\n",
       "      <td>0.836667</td>\n",
       "      <td>...</td>\n",
       "      <td>1.478604</td>\n",
       "      <td>1.87889</td>\n",
       "      <td>2.425129</td>\n",
       "      <td>Higher 2C</td>\n",
       "      <td>2059.0</td>\n",
       "      <td>2069.0</td>\n",
       "      <td>2081.0</td>\n",
       "    </tr>\n",
       "    <tr>\n",
       "      <th>ssp245</th>\n",
       "      <th>unspecified</th>\n",
       "      <th>MAGICCv7.5.1</th>\n",
       "      <td>1.0</td>\n",
       "      <td>1.0</td>\n",
       "      <td>1.0</td>\n",
       "      <td>1.0</td>\n",
       "      <td>1.0</td>\n",
       "      <td>1.0</td>\n",
       "      <td>1.0</td>\n",
       "      <td>...</td>\n",
       "      <td>2.218657</td>\n",
       "      <td>2.838238</td>\n",
       "      <td>3.642782</td>\n",
       "      <td>Above 2C</td>\n",
       "      <td>2100.0</td>\n",
       "      <td>2100.0</td>\n",
       "      <td>2100.0</td>\n",
       "    </tr>\n",
       "    <tr>\n",
       "      <th>ssp370</th>\n",
       "      <th>unspecified</th>\n",
       "      <th>MAGICCv7.5.1</th>\n",
       "      <td>1.0</td>\n",
       "      <td>1.0</td>\n",
       "      <td>1.0</td>\n",
       "      <td>1.0</td>\n",
       "      <td>1.0</td>\n",
       "      <td>1.0</td>\n",
       "      <td>1.0</td>\n",
       "      <td>...</td>\n",
       "      <td>3.476406</td>\n",
       "      <td>4.372581</td>\n",
       "      <td>5.35643</td>\n",
       "      <td>Above 2C</td>\n",
       "      <td>2100.0</td>\n",
       "      <td>2100.0</td>\n",
       "      <td>2100.0</td>\n",
       "    </tr>\n",
       "    <tr>\n",
       "      <th>ssp434</th>\n",
       "      <th>unspecified</th>\n",
       "      <th>MAGICCv7.5.1</th>\n",
       "      <td>1.0</td>\n",
       "      <td>1.0</td>\n",
       "      <td>1.0</td>\n",
       "      <td>1.0</td>\n",
       "      <td>1.0</td>\n",
       "      <td>1.0</td>\n",
       "      <td>1.0</td>\n",
       "      <td>...</td>\n",
       "      <td>1.898714</td>\n",
       "      <td>2.371833</td>\n",
       "      <td>2.958278</td>\n",
       "      <td>Above 2C</td>\n",
       "      <td>2092.0</td>\n",
       "      <td>2094.0</td>\n",
       "      <td>2100.0</td>\n",
       "    </tr>\n",
       "    <tr>\n",
       "      <th>ssp460</th>\n",
       "      <th>unspecified</th>\n",
       "      <th>MAGICCv7.5.1</th>\n",
       "      <td>1.0</td>\n",
       "      <td>1.0</td>\n",
       "      <td>1.0</td>\n",
       "      <td>1.0</td>\n",
       "      <td>1.0</td>\n",
       "      <td>1.0</td>\n",
       "      <td>1.0</td>\n",
       "      <td>...</td>\n",
       "      <td>2.753816</td>\n",
       "      <td>3.485626</td>\n",
       "      <td>4.373157</td>\n",
       "      <td>Above 2C</td>\n",
       "      <td>2100.0</td>\n",
       "      <td>2100.0</td>\n",
       "      <td>2100.0</td>\n",
       "    </tr>\n",
       "    <tr>\n",
       "      <th>ssp534-over</th>\n",
       "      <th>unspecified</th>\n",
       "      <th>MAGICCv7.5.1</th>\n",
       "      <td>1.0</td>\n",
       "      <td>1.0</td>\n",
       "      <td>1.0</td>\n",
       "      <td>1.0</td>\n",
       "      <td>1.0</td>\n",
       "      <td>1.0</td>\n",
       "      <td>1.0</td>\n",
       "      <td>...</td>\n",
       "      <td>2.100912</td>\n",
       "      <td>2.613975</td>\n",
       "      <td>3.299928</td>\n",
       "      <td>Above 2C</td>\n",
       "      <td>2058.0</td>\n",
       "      <td>2060.0</td>\n",
       "      <td>2069.0</td>\n",
       "    </tr>\n",
       "    <tr>\n",
       "      <th>ssp585</th>\n",
       "      <th>unspecified</th>\n",
       "      <th>MAGICCv7.5.1</th>\n",
       "      <td>1.0</td>\n",
       "      <td>1.0</td>\n",
       "      <td>1.0</td>\n",
       "      <td>1.0</td>\n",
       "      <td>1.0</td>\n",
       "      <td>1.0</td>\n",
       "      <td>1.0</td>\n",
       "      <td>...</td>\n",
       "      <td>4.094323</td>\n",
       "      <td>5.278692</td>\n",
       "      <td>6.75008</td>\n",
       "      <td>Above 2C</td>\n",
       "      <td>2100.0</td>\n",
       "      <td>2100.0</td>\n",
       "      <td>2100.0</td>\n",
       "    </tr>\n",
       "  </tbody>\n",
       "</table>\n",
       "<p>8 rows × 23 columns</p>\n",
       "</div>"
      ],
      "text/plain": [
       "                                                                                   value  \\\n",
       "statistic                                    Exceedance Probability|1.00K(dimensionless)   \n",
       "region scenario    model       climate_model                                               \n",
       "World  ssp119      unspecified MAGICCv7.5.1                                          1.0   \n",
       "       ssp126      unspecified MAGICCv7.5.1                                          1.0   \n",
       "       ssp245      unspecified MAGICCv7.5.1                                          1.0   \n",
       "       ssp370      unspecified MAGICCv7.5.1                                          1.0   \n",
       "       ssp434      unspecified MAGICCv7.5.1                                          1.0   \n",
       "       ssp460      unspecified MAGICCv7.5.1                                          1.0   \n",
       "       ssp534-over unspecified MAGICCv7.5.1                                          1.0   \n",
       "       ssp585      unspecified MAGICCv7.5.1                                          1.0   \n",
       "\n",
       "                                                                                          \\\n",
       "statistic                                    Exceedance Probability|1.10K(dimensionless)   \n",
       "region scenario    model       climate_model                                               \n",
       "World  ssp119      unspecified MAGICCv7.5.1                                          1.0   \n",
       "       ssp126      unspecified MAGICCv7.5.1                                          1.0   \n",
       "       ssp245      unspecified MAGICCv7.5.1                                          1.0   \n",
       "       ssp370      unspecified MAGICCv7.5.1                                          1.0   \n",
       "       ssp434      unspecified MAGICCv7.5.1                                          1.0   \n",
       "       ssp460      unspecified MAGICCv7.5.1                                          1.0   \n",
       "       ssp534-over unspecified MAGICCv7.5.1                                          1.0   \n",
       "       ssp585      unspecified MAGICCv7.5.1                                          1.0   \n",
       "\n",
       "                                                                                          \\\n",
       "statistic                                    Exceedance Probability|1.20K(dimensionless)   \n",
       "region scenario    model       climate_model                                               \n",
       "World  ssp119      unspecified MAGICCv7.5.1                                          1.0   \n",
       "       ssp126      unspecified MAGICCv7.5.1                                          1.0   \n",
       "       ssp245      unspecified MAGICCv7.5.1                                          1.0   \n",
       "       ssp370      unspecified MAGICCv7.5.1                                          1.0   \n",
       "       ssp434      unspecified MAGICCv7.5.1                                          1.0   \n",
       "       ssp460      unspecified MAGICCv7.5.1                                          1.0   \n",
       "       ssp534-over unspecified MAGICCv7.5.1                                          1.0   \n",
       "       ssp585      unspecified MAGICCv7.5.1                                          1.0   \n",
       "\n",
       "                                                                                          \\\n",
       "statistic                                    Exceedance Probability|1.30K(dimensionless)   \n",
       "region scenario    model       climate_model                                               \n",
       "World  ssp119      unspecified MAGICCv7.5.1                                     0.976667   \n",
       "       ssp126      unspecified MAGICCv7.5.1                                          1.0   \n",
       "       ssp245      unspecified MAGICCv7.5.1                                          1.0   \n",
       "       ssp370      unspecified MAGICCv7.5.1                                          1.0   \n",
       "       ssp434      unspecified MAGICCv7.5.1                                          1.0   \n",
       "       ssp460      unspecified MAGICCv7.5.1                                          1.0   \n",
       "       ssp534-over unspecified MAGICCv7.5.1                                          1.0   \n",
       "       ssp585      unspecified MAGICCv7.5.1                                          1.0   \n",
       "\n",
       "                                                                                          \\\n",
       "statistic                                    Exceedance Probability|1.40K(dimensionless)   \n",
       "region scenario    model       climate_model                                               \n",
       "World  ssp119      unspecified MAGICCv7.5.1                                     0.888333   \n",
       "       ssp126      unspecified MAGICCv7.5.1                                     0.988333   \n",
       "       ssp245      unspecified MAGICCv7.5.1                                          1.0   \n",
       "       ssp370      unspecified MAGICCv7.5.1                                          1.0   \n",
       "       ssp434      unspecified MAGICCv7.5.1                                          1.0   \n",
       "       ssp460      unspecified MAGICCv7.5.1                                          1.0   \n",
       "       ssp534-over unspecified MAGICCv7.5.1                                          1.0   \n",
       "       ssp585      unspecified MAGICCv7.5.1                                          1.0   \n",
       "\n",
       "                                                                                          \\\n",
       "statistic                                    Exceedance Probability|1.50K(dimensionless)   \n",
       "region scenario    model       climate_model                                               \n",
       "World  ssp119      unspecified MAGICCv7.5.1                                     0.743333   \n",
       "       ssp126      unspecified MAGICCv7.5.1                                         0.94   \n",
       "       ssp245      unspecified MAGICCv7.5.1                                          1.0   \n",
       "       ssp370      unspecified MAGICCv7.5.1                                          1.0   \n",
       "       ssp434      unspecified MAGICCv7.5.1                                          1.0   \n",
       "       ssp460      unspecified MAGICCv7.5.1                                          1.0   \n",
       "       ssp534-over unspecified MAGICCv7.5.1                                          1.0   \n",
       "       ssp585      unspecified MAGICCv7.5.1                                          1.0   \n",
       "\n",
       "                                                                                          ...  \\\n",
       "statistic                                    Exceedance Probability|1.60K(dimensionless)  ...   \n",
       "region scenario    model       climate_model                                              ...   \n",
       "World  ssp119      unspecified MAGICCv7.5.1                                     0.608333  ...   \n",
       "       ssp126      unspecified MAGICCv7.5.1                                     0.836667  ...   \n",
       "       ssp245      unspecified MAGICCv7.5.1                                          1.0  ...   \n",
       "       ssp370      unspecified MAGICCv7.5.1                                          1.0  ...   \n",
       "       ssp434      unspecified MAGICCv7.5.1                                          1.0  ...   \n",
       "       ssp460      unspecified MAGICCv7.5.1                                          1.0  ...   \n",
       "       ssp534-over unspecified MAGICCv7.5.1                                          1.0  ...   \n",
       "       ssp585      unspecified MAGICCv7.5.1                                          1.0  ...   \n",
       "\n",
       "                                                                                                     \\\n",
       "statistic                                    Peak Surface Air Temperature Change|0.05th quantile(K)   \n",
       "region scenario    model       climate_model                                                          \n",
       "World  ssp119      unspecified MAGICCv7.5.1                                                1.345672   \n",
       "       ssp126      unspecified MAGICCv7.5.1                                                1.478604   \n",
       "       ssp245      unspecified MAGICCv7.5.1                                                2.218657   \n",
       "       ssp370      unspecified MAGICCv7.5.1                                                3.476406   \n",
       "       ssp434      unspecified MAGICCv7.5.1                                                1.898714   \n",
       "       ssp460      unspecified MAGICCv7.5.1                                                2.753816   \n",
       "       ssp534-over unspecified MAGICCv7.5.1                                                2.100912   \n",
       "       ssp585      unspecified MAGICCv7.5.1                                                4.094323   \n",
       "\n",
       "                                                                                                    \\\n",
       "statistic                                    Peak Surface Air Temperature Change|0.5th quantile(K)   \n",
       "region scenario    model       climate_model                                                         \n",
       "World  ssp119      unspecified MAGICCv7.5.1                                               1.653154   \n",
       "       ssp126      unspecified MAGICCv7.5.1                                                1.87889   \n",
       "       ssp245      unspecified MAGICCv7.5.1                                               2.838238   \n",
       "       ssp370      unspecified MAGICCv7.5.1                                               4.372581   \n",
       "       ssp434      unspecified MAGICCv7.5.1                                               2.371833   \n",
       "       ssp460      unspecified MAGICCv7.5.1                                               3.485626   \n",
       "       ssp534-over unspecified MAGICCv7.5.1                                               2.613975   \n",
       "       ssp585      unspecified MAGICCv7.5.1                                               5.278692   \n",
       "\n",
       "                                                                                                     \\\n",
       "statistic                                    Peak Surface Air Temperature Change|0.95th quantile(K)   \n",
       "region scenario    model       climate_model                                                          \n",
       "World  ssp119      unspecified MAGICCv7.5.1                                                2.071348   \n",
       "       ssp126      unspecified MAGICCv7.5.1                                                2.425129   \n",
       "       ssp245      unspecified MAGICCv7.5.1                                                3.642782   \n",
       "       ssp370      unspecified MAGICCv7.5.1                                                 5.35643   \n",
       "       ssp434      unspecified MAGICCv7.5.1                                                2.958278   \n",
       "       ssp460      unspecified MAGICCv7.5.1                                                4.373157   \n",
       "       ssp534-over unspecified MAGICCv7.5.1                                                3.299928   \n",
       "       ssp585      unspecified MAGICCv7.5.1                                                 6.75008   \n",
       "\n",
       "                                                                   \\\n",
       "statistic                                          SR1.5 category   \n",
       "region scenario    model       climate_model                        \n",
       "World  ssp119      unspecified MAGICCv7.5.1   1.5C high overshoot   \n",
       "       ssp126      unspecified MAGICCv7.5.1             Higher 2C   \n",
       "       ssp245      unspecified MAGICCv7.5.1              Above 2C   \n",
       "       ssp370      unspecified MAGICCv7.5.1              Above 2C   \n",
       "       ssp434      unspecified MAGICCv7.5.1              Above 2C   \n",
       "       ssp460      unspecified MAGICCv7.5.1              Above 2C   \n",
       "       ssp534-over unspecified MAGICCv7.5.1              Above 2C   \n",
       "       ssp585      unspecified MAGICCv7.5.1              Above 2C   \n",
       "\n",
       "                                                                                                             \\\n",
       "statistic                                    Year of peak Surface Air Temperature Change|0.05th quantile(K)   \n",
       "region scenario    model       climate_model                                                                  \n",
       "World  ssp119      unspecified MAGICCv7.5.1                                                          2037.0   \n",
       "       ssp126      unspecified MAGICCv7.5.1                                                          2059.0   \n",
       "       ssp245      unspecified MAGICCv7.5.1                                                          2100.0   \n",
       "       ssp370      unspecified MAGICCv7.5.1                                                          2100.0   \n",
       "       ssp434      unspecified MAGICCv7.5.1                                                          2092.0   \n",
       "       ssp460      unspecified MAGICCv7.5.1                                                          2100.0   \n",
       "       ssp534-over unspecified MAGICCv7.5.1                                                          2058.0   \n",
       "       ssp585      unspecified MAGICCv7.5.1                                                          2100.0   \n",
       "\n",
       "                                                                                                            \\\n",
       "statistic                                    Year of peak Surface Air Temperature Change|0.5th quantile(K)   \n",
       "region scenario    model       climate_model                                                                 \n",
       "World  ssp119      unspecified MAGICCv7.5.1                                                         2048.0   \n",
       "       ssp126      unspecified MAGICCv7.5.1                                                         2069.0   \n",
       "       ssp245      unspecified MAGICCv7.5.1                                                         2100.0   \n",
       "       ssp370      unspecified MAGICCv7.5.1                                                         2100.0   \n",
       "       ssp434      unspecified MAGICCv7.5.1                                                         2094.0   \n",
       "       ssp460      unspecified MAGICCv7.5.1                                                         2100.0   \n",
       "       ssp534-over unspecified MAGICCv7.5.1                                                         2060.0   \n",
       "       ssp585      unspecified MAGICCv7.5.1                                                         2100.0   \n",
       "\n",
       "                                                                                                             \n",
       "statistic                                    Year of peak Surface Air Temperature Change|0.95th quantile(K)  \n",
       "region scenario    model       climate_model                                                                 \n",
       "World  ssp119      unspecified MAGICCv7.5.1                                                          2050.0  \n",
       "       ssp126      unspecified MAGICCv7.5.1                                                          2081.0  \n",
       "       ssp245      unspecified MAGICCv7.5.1                                                          2100.0  \n",
       "       ssp370      unspecified MAGICCv7.5.1                                                          2100.0  \n",
       "       ssp434      unspecified MAGICCv7.5.1                                                          2100.0  \n",
       "       ssp460      unspecified MAGICCv7.5.1                                                          2100.0  \n",
       "       ssp534-over unspecified MAGICCv7.5.1                                                          2069.0  \n",
       "       ssp585      unspecified MAGICCv7.5.1                                                          2100.0  \n",
       "\n",
       "[8 rows x 23 columns]"
      ]
     },
     "execution_count": 25,
     "metadata": {},
     "output_type": "execute_result"
    }
   ],
   "source": [
    "# NBVAL_IGNORE_OUTPUT\n",
    "index = [\"climate_model\", \"scenario\"]\n",
    "pivot_merge_unit = summary_stats.to_frame().reset_index()\n",
    "pivot_merge_unit[\"statistic\"] = pivot_merge_unit[\"statistic\"] + pivot_merge_unit[\n",
    "    \"unit\"\n",
    "].apply(lambda x: \"({})\".format(x) if x else \"\")\n",
    "pivot_merge_unit = pivot_merge_unit.drop(\"unit\", axis=\"columns\")\n",
    "pivot_merge_unit = pivot_merge_unit.set_index(\n",
    "    list(set(pivot_merge_unit.columns) - {\"value\"})\n",
    ").unstack(\"statistic\")\n",
    "pivot_merge_unit"
   ]
  }
 ],
 "metadata": {
  "kernelspec": {
   "display_name": "Python 3 (ipykernel)",
   "language": "python",
   "name": "python3"
  },
  "language_info": {
   "codemirror_mode": {
    "name": "ipython",
    "version": 3
   },
   "file_extension": ".py",
   "mimetype": "text/x-python",
   "name": "python",
   "nbconvert_exporter": "python",
   "pygments_lexer": "ipython3",
   "version": "3.9.12"
  },
  "widgets": {
   "application/vnd.jupyter.widget-state+json": {
    "state": {
     "1b85f45ae90240c9a9bbbbea783a3a20": {
      "model_module": "@jupyter-widgets/base",
      "model_module_version": "1.2.0",
      "model_name": "LayoutModel",
      "state": {
       "_model_module": "@jupyter-widgets/base",
       "_model_module_version": "1.2.0",
       "_model_name": "LayoutModel",
       "_view_count": null,
       "_view_module": "@jupyter-widgets/base",
       "_view_module_version": "1.2.0",
       "_view_name": "LayoutView",
       "align_content": null,
       "align_items": null,
       "align_self": null,
       "border": null,
       "bottom": null,
       "display": null,
       "flex": null,
       "flex_flow": null,
       "grid_area": null,
       "grid_auto_columns": null,
       "grid_auto_flow": null,
       "grid_auto_rows": null,
       "grid_column": null,
       "grid_gap": null,
       "grid_row": null,
       "grid_template_areas": null,
       "grid_template_columns": null,
       "grid_template_rows": null,
       "height": null,
       "justify_content": null,
       "justify_items": null,
       "left": null,
       "margin": null,
       "max_height": null,
       "max_width": null,
       "min_height": null,
       "min_width": null,
       "object_fit": null,
       "object_position": null,
       "order": null,
       "overflow": null,
       "overflow_x": null,
       "overflow_y": null,
       "padding": null,
       "right": null,
       "top": null,
       "visibility": null,
       "width": null
      }
     },
     "41922d1c16d345668fe546d803e64fc7": {
      "model_module": "@jupyter-widgets/controls",
      "model_module_version": "1.5.0",
      "model_name": "FloatProgressModel",
      "state": {
       "_dom_classes": [],
       "_model_module": "@jupyter-widgets/controls",
       "_model_module_version": "1.5.0",
       "_model_name": "FloatProgressModel",
       "_view_count": null,
       "_view_module": "@jupyter-widgets/controls",
       "_view_module_version": "1.5.0",
       "_view_name": "ProgressView",
       "bar_style": "success",
       "description": "",
       "description_tooltip": null,
       "layout": "IPY_MODEL_519450847d814a46b3364e971c5b75b4",
       "max": 23,
       "min": 0,
       "orientation": "horizontal",
       "style": "IPY_MODEL_a5a180daea554cedbc916617dc2710aa",
       "value": 23
      }
     },
     "519450847d814a46b3364e971c5b75b4": {
      "model_module": "@jupyter-widgets/base",
      "model_module_version": "1.2.0",
      "model_name": "LayoutModel",
      "state": {
       "_model_module": "@jupyter-widgets/base",
       "_model_module_version": "1.2.0",
       "_model_name": "LayoutModel",
       "_view_count": null,
       "_view_module": "@jupyter-widgets/base",
       "_view_module_version": "1.2.0",
       "_view_name": "LayoutView",
       "align_content": null,
       "align_items": null,
       "align_self": null,
       "border": null,
       "bottom": null,
       "display": null,
       "flex": null,
       "flex_flow": null,
       "grid_area": null,
       "grid_auto_columns": null,
       "grid_auto_flow": null,
       "grid_auto_rows": null,
       "grid_column": null,
       "grid_gap": null,
       "grid_row": null,
       "grid_template_areas": null,
       "grid_template_columns": null,
       "grid_template_rows": null,
       "height": null,
       "justify_content": null,
       "justify_items": null,
       "left": null,
       "margin": null,
       "max_height": null,
       "max_width": null,
       "min_height": null,
       "min_width": null,
       "object_fit": null,
       "object_position": null,
       "order": null,
       "overflow": null,
       "overflow_x": null,
       "overflow_y": null,
       "padding": null,
       "right": null,
       "top": null,
       "visibility": null,
       "width": null
      }
     },
     "626929877855498692ce0bac6fcca876": {
      "model_module": "@jupyter-widgets/base",
      "model_module_version": "1.2.0",
      "model_name": "LayoutModel",
      "state": {
       "_model_module": "@jupyter-widgets/base",
       "_model_module_version": "1.2.0",
       "_model_name": "LayoutModel",
       "_view_count": null,
       "_view_module": "@jupyter-widgets/base",
       "_view_module_version": "1.2.0",
       "_view_name": "LayoutView",
       "align_content": null,
       "align_items": null,
       "align_self": null,
       "border": null,
       "bottom": null,
       "display": null,
       "flex": null,
       "flex_flow": null,
       "grid_area": null,
       "grid_auto_columns": null,
       "grid_auto_flow": null,
       "grid_auto_rows": null,
       "grid_column": null,
       "grid_gap": null,
       "grid_row": null,
       "grid_template_areas": null,
       "grid_template_columns": null,
       "grid_template_rows": null,
       "height": null,
       "justify_content": null,
       "justify_items": null,
       "left": null,
       "margin": null,
       "max_height": null,
       "max_width": null,
       "min_height": null,
       "min_width": null,
       "object_fit": null,
       "object_position": null,
       "order": null,
       "overflow": null,
       "overflow_x": null,
       "overflow_y": null,
       "padding": null,
       "right": null,
       "top": null,
       "visibility": null,
       "width": null
      }
     },
     "644fd04140334cbfa80d29e115b37e1b": {
      "model_module": "@jupyter-widgets/controls",
      "model_module_version": "1.5.0",
      "model_name": "HBoxModel",
      "state": {
       "_dom_classes": [],
       "_model_module": "@jupyter-widgets/controls",
       "_model_module_version": "1.5.0",
       "_model_name": "HBoxModel",
       "_view_count": null,
       "_view_module": "@jupyter-widgets/controls",
       "_view_module_version": "1.5.0",
       "_view_name": "HBoxView",
       "box_style": "",
       "children": [
        "IPY_MODEL_e8e798c6f083470caf7b216e72be296d",
        "IPY_MODEL_41922d1c16d345668fe546d803e64fc7",
        "IPY_MODEL_e598397f439b415ab79d3728f0e31674"
       ],
       "layout": "IPY_MODEL_1b85f45ae90240c9a9bbbbea783a3a20"
      }
     },
     "6b44248673344a90ae8d6b2c08758ed5": {
      "model_module": "@jupyter-widgets/controls",
      "model_module_version": "1.5.0",
      "model_name": "DescriptionStyleModel",
      "state": {
       "_model_module": "@jupyter-widgets/controls",
       "_model_module_version": "1.5.0",
       "_model_name": "DescriptionStyleModel",
       "_view_count": null,
       "_view_module": "@jupyter-widgets/base",
       "_view_module_version": "1.2.0",
       "_view_name": "StyleView",
       "description_width": ""
      }
     },
     "877840dd68084150b3023c172e6cc289": {
      "model_module": "@jupyter-widgets/controls",
      "model_module_version": "1.5.0",
      "model_name": "DescriptionStyleModel",
      "state": {
       "_model_module": "@jupyter-widgets/controls",
       "_model_module_version": "1.5.0",
       "_model_name": "DescriptionStyleModel",
       "_view_count": null,
       "_view_module": "@jupyter-widgets/base",
       "_view_module_version": "1.2.0",
       "_view_name": "StyleView",
       "description_width": ""
      }
     },
     "a5a180daea554cedbc916617dc2710aa": {
      "model_module": "@jupyter-widgets/controls",
      "model_module_version": "1.5.0",
      "model_name": "ProgressStyleModel",
      "state": {
       "_model_module": "@jupyter-widgets/controls",
       "_model_module_version": "1.5.0",
       "_model_name": "ProgressStyleModel",
       "_view_count": null,
       "_view_module": "@jupyter-widgets/base",
       "_view_module_version": "1.2.0",
       "_view_name": "StyleView",
       "bar_color": null,
       "description_width": ""
      }
     },
     "e598397f439b415ab79d3728f0e31674": {
      "model_module": "@jupyter-widgets/controls",
      "model_module_version": "1.5.0",
      "model_name": "HTMLModel",
      "state": {
       "_dom_classes": [],
       "_model_module": "@jupyter-widgets/controls",
       "_model_module_version": "1.5.0",
       "_model_name": "HTMLModel",
       "_view_count": null,
       "_view_module": "@jupyter-widgets/controls",
       "_view_module_version": "1.5.0",
       "_view_name": "HTMLView",
       "description": "",
       "description_tooltip": null,
       "layout": "IPY_MODEL_626929877855498692ce0bac6fcca876",
       "placeholder": "​",
       "style": "IPY_MODEL_6b44248673344a90ae8d6b2c08758ed5",
       "value": " 23/23 [00:00&lt;00:00, 79.84it/s]"
      }
     },
     "e8e798c6f083470caf7b216e72be296d": {
      "model_module": "@jupyter-widgets/controls",
      "model_module_version": "1.5.0",
      "model_name": "HTMLModel",
      "state": {
       "_dom_classes": [],
       "_model_module": "@jupyter-widgets/controls",
       "_model_module_version": "1.5.0",
       "_model_name": "HTMLModel",
       "_view_count": null,
       "_view_module": "@jupyter-widgets/controls",
       "_view_module_version": "1.5.0",
       "_view_name": "HTMLView",
       "description": "",
       "description_tooltip": null,
       "layout": "IPY_MODEL_f06505b8b2d7480f9afc6dc483fba5b1",
       "placeholder": "​",
       "style": "IPY_MODEL_877840dd68084150b3023c172e6cc289",
       "value": "100%"
      }
     },
     "f06505b8b2d7480f9afc6dc483fba5b1": {
      "model_module": "@jupyter-widgets/base",
      "model_module_version": "1.2.0",
      "model_name": "LayoutModel",
      "state": {
       "_model_module": "@jupyter-widgets/base",
       "_model_module_version": "1.2.0",
       "_model_name": "LayoutModel",
       "_view_count": null,
       "_view_module": "@jupyter-widgets/base",
       "_view_module_version": "1.2.0",
       "_view_name": "LayoutView",
       "align_content": null,
       "align_items": null,
       "align_self": null,
       "border": null,
       "bottom": null,
       "display": null,
       "flex": null,
       "flex_flow": null,
       "grid_area": null,
       "grid_auto_columns": null,
       "grid_auto_flow": null,
       "grid_auto_rows": null,
       "grid_column": null,
       "grid_gap": null,
       "grid_row": null,
       "grid_template_areas": null,
       "grid_template_columns": null,
       "grid_template_rows": null,
       "height": null,
       "justify_content": null,
       "justify_items": null,
       "left": null,
       "margin": null,
       "max_height": null,
       "max_width": null,
       "min_height": null,
       "min_width": null,
       "object_fit": null,
       "object_position": null,
       "order": null,
       "overflow": null,
       "overflow_x": null,
       "overflow_y": null,
       "padding": null,
       "right": null,
       "top": null,
       "visibility": null,
       "width": null
      }
     }
    },
    "version_major": 2,
    "version_minor": 0
   }
  }
 },
 "nbformat": 4,
 "nbformat_minor": 5
}
